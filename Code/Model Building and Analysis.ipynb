{
 "cells": [
  {
   "cell_type": "markdown",
   "metadata": {},
   "source": [
    "# Spring 2024 - CSE-6040 | Extra Credit Project"
   ]
  },
  {
   "cell_type": "markdown",
   "metadata": {},
   "source": [
    "**Assignment Due:** Thursday, Apr 25th @ 1159 UTC\n",
    "\n",
    "**Peer-grading Due:** Wednesday, May 1st @ 1159 UTC\n",
    "\n",
    "*Author: Ryan Hopkins*"
   ]
  },
  {
   "cell_type": "markdown",
   "metadata": {},
   "source": [
    "***Table of Contents:***\n",
    "- [Topic and Motivation](#topic-and-motivation)\n",
    "- [Data](#data)\n",
    "    - [Data Structure](#data-structure)\n",
    "    - [Hypotheses and Models](#hypotheses-and-models)\n",
    "- [Data Preprocessing](#data-preprocessing)\n",
    "    - [Relevant Packages](#relevant-packages)\n",
    "    - [Merge Datasets](#merge-datasets)\n",
    "    - [Imputation](#imputation)\n",
    "        - [Basic Imputes](#basic-imputes)\n",
    "        - [Regression Imputes](#regression-imputes)\n",
    "            - [`imdb_score` Impute](#imdb_score-impute)\n",
    "            - [`tmdb_popularity` Impute](#tmdb_popularity-impute)\n",
    "        - [Logarithmic Impute](#logarithmic-impute)\n",
    "            - [`age_rating` Impute](#age_rating-impute)\n",
    "- [Analysis](#analysis)\n",
    "    - [Hypotheses](#hypotheses)\n",
    "        - [Critically Acclaimed](#critically-acclaimed)\n",
    "        - [Popularity](#popularity)\n",
    "        - [Kid Friendly](#kid-friendly)\n",
    "        - [Diversity](#diversity)\n",
    "    - [Model](#model)\n",
    "        - [Feature Engineering](#feature-engineering)\n",
    "            - [K-means](#k-means)\n",
    "            - [PCA](#pca)\n",
    "        - [Training](#training)\n",
    "        - [Recommendations](#recommendations)\n",
    "- [Overview](#overview)\n"
   ]
  },
  {
   "cell_type": "markdown",
   "metadata": {},
   "source": [
    "## Topic and Motivation\n",
    "The topic I have chosen for this project relates to one of my favorite hobbies: **Cinema**. I cherish and consider cinema to be an art form that transcends simple popcorn entertainment. Of course, a lot of movies are made just to be shallow and fun, which I like, but I primarily love watching a movie and appreciating the unique production design, directorial decisions, acting performances, score, lighting, writing, etc.\n",
    "\n",
    "**There are two problems every cinephile encounters:**\n",
    "1. There are way too many subscription-based streaming services!\n",
    "2. The never-ending search for other good movies. (Despite having 200 in my watchlist)\n",
    "\n",
    "In order to alleviate these concerns, I searched for datasets relating to streaming services and their respective movie databases, outlined below."
   ]
  },
  {
   "cell_type": "markdown",
   "metadata": {},
   "source": [
    "## Data\n",
    "I primarily used [Kaggle](https://www.kaggle.com/) to find my streaming datasets. I will hyperlink each dataset for documentation purposes and in the case anyone is interested in delving further into the project.\n",
    "\n",
    "As (hopefully) seen in the Vocareum directory, I found datasets for the following streaming services:\n",
    "- [Amazon Prime Video](https://www.kaggle.com/datasets/victorsoeiro/amazon-prime-tv-shows-and-movies?select=titles.csv)\n",
    "- [AppleTV+](https://www.kaggle.com/datasets/dgoenrique/apple-tv-movies-and-tv-shows?select=titles.csv)\n",
    "- [Disney+](https://www.kaggle.com/datasets/victorsoeiro/disney-tv-shows-and-movies?select=titles.csv)\n",
    "- [HBO Max](https://www.kaggle.com/datasets/dgoenrique/hbo-max-movies-and-tv-shows?select=titles.csv)\n",
    "- [Netflix](https://www.kaggle.com/datasets/victorsoeiro/netflix-tv-shows-and-movies?select=titles.csv)\n",
    "- [Paramount+](https://www.kaggle.com/datasets/victorsoeiro/paramount-tv-shows-and-movies?select=titles.csv)\n",
    "\n",
    "### Data Structure\n",
    "I got lucky and found datasets with congruent data structures, even though they were primarily sourced by three different curators! The only discrepancy between them is the date each dataset was curated, which affects some of the movie data greatly. This will be handled in the cleaning of the data.\n",
    "\n",
    "***Content***\n",
    "\n",
    "These datasets contain two files, one for the titles (`titles.csv`) and the other for the cast (`credits.csv`) of each movie and show on the platform.\n",
    "\n",
    "The `titles.csv` contains more than 3k titles, witch 15 columns containing:\n",
    "\n",
    "- `id`: The title ID on JustWatch.\n",
    "- `title`: The name of the title.\n",
    "- `type`: TV show or movie.\n",
    "- `description`: A brief description.\n",
    "- `release_year`: The release year.\n",
    "- `age_certification`: The age certification.\n",
    "- `runtime`: The length of the episode (SHOW) or movie.\n",
    "- `genres`: A list of genres.\n",
    "- `production_countries`: A list of countries that - produced the title.\n",
    "- `seasons`: Number of seasons if it's a SHOW.\n",
    "- `imdb_id`: The title ID on IMDB.\n",
    "- `imdb_score`: Score on IMDB.\n",
    "- `imdb_votes`: Votes on IMDB.\n",
    "- `tmdb_popularity`: Popularity on TMDB.\n",
    "- `tmdb_score`: Score on TMDB.\n",
    "\n",
    "The `credits.csv` contains over 64k credits of actors and directors, with 5 columns containing:\n",
    "\n",
    "- `person_ID`: The person ID on JustWatch.\n",
    "- `id`: The title ID on JustWatch.\n",
    "- `name`: The actor or director's name.\n",
    "- `character_name`: The character name.\n",
    "- `role`: ACTOR or DIRECTOR.\n",
    "\n",
    "<br>\n",
    "\n",
    "For this project, I only utilized the `titles.csv` file from each dataset for two reasons:\n",
    "1. Including both files for each streaming database would exceed the maximum data limit for the project (10MB).\n",
    "2. I prioritized the variety of streaming services in order to have the largest pool of movies possible.\n"
   ]
  },
  {
   "cell_type": "markdown",
   "metadata": {},
   "source": [
    "### Hypotheses and Models\n",
    "From these datasets, I hope to alleviate the two problems every cinephile encounters, as restated below:\n",
    "\n",
    "<br>\n",
    "\n",
    "***There are way too many subscription-based streaming services!***\n",
    "\n",
    "We're not made of money, so we can ask some questions that might help narrow down our choices depending on what each of us prioritize in a streaming service.\n",
    "- **Hypothesis**: Which streaming platform has more critically acclaimed movies?\n",
    "  - **Prediction**: *HBO Max*\n",
    "- **Hypothesis**: Which streaming platform has more popular movies?\n",
    "  - **Prediction**: *Netflix*\n",
    "- **Hypothesis**: Which streaming platform has more kid friendly movies?\n",
    "  - **Prediction**: *Disney+*\n",
    "- **Hypothesis**: Which streaming platform has more genre diversity?\n",
    "  - **Prediction**: *Amazon*\n",
    "\n",
    "<br>\n",
    "\n",
    "***The never-ending search for other good movies.***\n",
    "\n",
    "It takes way too long to read reddit post, after reddit post, after reddit post on movie recommendations you've most likely already seen. So, we'll create a platform-filtered recommendation system based on these movie databases. \n",
    "- **Recommendation Model**: Create a recommendation system using `KNN` on movie features.\n",
    "  - Use `regex` to create a fuzzy movie search feature.\n",
    "  - Use `kmeans` and `PCA` to feature engineer categorical data, like `genres`."
   ]
  },
  {
   "cell_type": "markdown",
   "metadata": {},
   "source": [
    "## Data Preprocessing"
   ]
  },
  {
   "cell_type": "markdown",
   "metadata": {},
   "source": [
    "### Relevant Packages"
   ]
  },
  {
   "cell_type": "code",
   "execution_count": 116,
   "metadata": {},
   "outputs": [],
   "source": [
    "# Load Packages\n",
    "import pandas as pd\n",
    "import numpy as np\n",
    "import scipy.stats as stats\n",
    "import matplotlib.pyplot as plt\n",
    "import seaborn as sns\n",
    "from sklearn.linear_model import LinearRegression, LogisticRegression\n",
    "from sklearn.preprocessing import LabelEncoder, StandardScaler, MultiLabelBinarizer, OneHotEncoder\n",
    "from sklearn.model_selection import train_test_split\n",
    "from sklearn.metrics import mean_squared_error, mean_absolute_error, r2_score, accuracy_score, precision_score, recall_score, f1_score, confusion_matrix\n",
    "from sklearn.neighbors import NearestNeighbors\n",
    "from sklearn.decomposition import PCA\n",
    "from sklearn.cluster import KMeans\n",
    "import re\n",
    "import ast"
   ]
  },
  {
   "cell_type": "markdown",
   "metadata": {},
   "source": [
    "### Merge Datasets"
   ]
  },
  {
   "cell_type": "markdown",
   "metadata": {},
   "source": [
    "First, let's read in the datasets and get a good look at them:"
   ]
  },
  {
   "cell_type": "code",
   "execution_count": 213,
   "metadata": {},
   "outputs": [
    {
     "data": {
      "text/plain": [
       "{'Amazon Prime':         id                        title   type  \\\n",
       " 0  ts20945            The Three Stooges   SHOW   \n",
       " 1  tm19248                  The General  MOVIE   \n",
       " 2  tm82253  The Best Years of Our Lives  MOVIE   \n",
       " 3  tm83884              His Girl Friday  MOVIE   \n",
       " 4  tm56584            In a Lonely Place  MOVIE   \n",
       " \n",
       "                                          description  release_year  \\\n",
       " 0  The Three Stooges were an American vaudeville ...          1934   \n",
       " 1  During America’s Civil War, Union spies steal ...          1926   \n",
       " 2  It's the hope that sustains the spirit of ever...          1946   \n",
       " 3  Hildy, the journalist former wife of newspaper...          1940   \n",
       " 4  An aspiring actress begins to suspect that her...          1950   \n",
       " \n",
       "   age_certification  runtime  \\\n",
       " 0             TV-PG       19   \n",
       " 1               NaN       78   \n",
       " 2               NaN      171   \n",
       " 3               NaN       92   \n",
       " 4               NaN       94   \n",
       " \n",
       "                                               genres production_countries  \\\n",
       " 0  ['comedy', 'family', 'animation', 'action', 'f...               ['US']   \n",
       " 1  ['action', 'drama', 'war', 'western', 'comedy'...               ['US']   \n",
       " 2                        ['romance', 'war', 'drama']               ['US']   \n",
       " 3                     ['comedy', 'drama', 'romance']               ['US']   \n",
       " 4                   ['thriller', 'drama', 'romance']               ['US']   \n",
       " \n",
       "    seasons    imdb_id  imdb_score  imdb_votes  tmdb_popularity  tmdb_score  \n",
       " 0     26.0  tt0850645         8.6      1092.0           15.424         7.6  \n",
       " 1      NaN  tt0017925         8.2     89766.0            8.647         8.0  \n",
       " 2      NaN  tt0036868         8.1     63026.0            8.435         7.8  \n",
       " 3      NaN  tt0032599         7.8     57835.0           11.270         7.4  \n",
       " 4      NaN  tt0042593         7.9     30924.0            8.273         7.6  ,\n",
       " 'Apple TV Plus':          id                                  title   type  \\\n",
       " 0    tm1300              A Charlie Brown Christmas  MOVIE   \n",
       " 1   tm71152  It's the Great Pumpkin, Charlie Brown  MOVIE   \n",
       " 2    tm2562           A Charlie Brown Thanksgiving  MOVIE   \n",
       " 3  tm125274         Be My Valentine, Charlie Brown  MOVIE   \n",
       " 4  tm106607  It's the Easter Beagle, Charlie Brown  MOVIE   \n",
       " \n",
       "                                          description  release_year  \\\n",
       " 0  When Charlie Brown complains about the overwhe...          1965   \n",
       " 1  This classic \"Peanuts\" tale focuses on the thu...          1966   \n",
       " 2  Turkey, cranberries, pumpkin pie... and the Pe...          1973   \n",
       " 3  It's Valentine's Day again and Charlie Brown d...          1975   \n",
       " 4  Charlie Brown, Linus and the entire Peanuts ga...          1974   \n",
       " \n",
       "   age_certification  runtime  \\\n",
       " 0                 G       25   \n",
       " 1                 G       25   \n",
       " 2                 G       25   \n",
       " 3                 G       25   \n",
       " 4                 G       25   \n",
       " \n",
       "                                               genres production_countries  \\\n",
       " 0  ['comedy', 'drama', 'family', 'music', 'animat...               ['US']   \n",
       " 1                  ['animation', 'comedy', 'family']               ['US']   \n",
       " 2                  ['family', 'animation', 'comedy']               ['US']   \n",
       " 3       ['animation', 'family', 'romance', 'comedy']               ['US']   \n",
       " 4                  ['family', 'animation', 'comedy']               ['US']   \n",
       " \n",
       "    seasons    imdb_id  imdb_score  imdb_votes  tmdb_popularity  tmdb_score  \n",
       " 0      NaN  tt0059026         8.3     40328.0           10.848       7.688  \n",
       " 1      NaN  tt0060550         8.2     20299.0           12.458       7.474  \n",
       " 2      NaN  tt0068359         7.7     11406.0           12.591       7.311  \n",
       " 3      NaN  tt0072687         7.4      2777.0            6.981       7.000  \n",
       " 4      NaN  tt0071679         7.5      3001.0            6.172       6.600  ,\n",
       " 'Disney Plus':         id                            title   type  \\\n",
       " 0  tm74391                         Fantasia  MOVIE   \n",
       " 1  tm67803  Snow White and the Seven Dwarfs  MOVIE   \n",
       " 2  tm82546                        Pinocchio  MOVIE   \n",
       " 3  tm79357                            Bambi  MOVIE   \n",
       " 4  tm62671                  Treasure Island  MOVIE   \n",
       " \n",
       "                                          description  release_year  \\\n",
       " 0  Walt Disney's timeless masterpiece is an extra...          1940   \n",
       " 1  A beautiful girl, Snow White, takes refuge in ...          1937   \n",
       " 2  Lonely toymaker Geppetto has his wishes answer...          1940   \n",
       " 3  Bambi's tale unfolds from season to season as ...          1942   \n",
       " 4  Enchanted by the idea of locating treasure bur...          1950   \n",
       " \n",
       "   age_certification  runtime  \\\n",
       " 0                 G      120   \n",
       " 1                 G       83   \n",
       " 2                 G       88   \n",
       " 3                 G       70   \n",
       " 4                PG       96   \n",
       " \n",
       "                                               genres production_countries  \\\n",
       " 0        ['animation', 'family', 'music', 'fantasy']               ['US']   \n",
       " 1  ['fantasy', 'family', 'romance', 'animation', ...               ['US']   \n",
       " 2       ['animation', 'comedy', 'family', 'fantasy']               ['US']   \n",
       " 3                   ['animation', 'drama', 'family']               ['US']   \n",
       " 4                               ['family', 'action']         ['GB', 'US']   \n",
       " \n",
       "    seasons    imdb_id  imdb_score  imdb_votes  tmdb_popularity  tmdb_score  \n",
       " 0      NaN  tt0032455         7.7     94681.0           57.751         7.4  \n",
       " 1      NaN  tt0029583         7.6    195321.0          107.137         7.1  \n",
       " 2      NaN  tt0032910         7.5    141937.0           71.160         7.1  \n",
       " 3      NaN  tt0034492         7.3    140406.0           68.136         7.0  \n",
       " 4      NaN  tt0043067         6.9      8229.0           10.698         6.5  ,\n",
       " 'HBO Max':          id                 title   type  \\\n",
       " 0   tm77588            Casablanca  MOVIE   \n",
       " 1  tm155702      The Wizard of Oz  MOVIE   \n",
       " 2   tm83648          Citizen Kane  MOVIE   \n",
       " 3    tm3175  Meet Me in St. Louis  MOVIE   \n",
       " 4  ts225761         Tom and Jerry   SHOW   \n",
       " \n",
       "                                          description  release_year  \\\n",
       " 0  In Casablanca, Morocco in December 1941, a cyn...          1943   \n",
       " 1  Young Dorothy finds herself in a magical world...          1939   \n",
       " 2  Newspaper magnate, Charles Foster Kane is take...          1941   \n",
       " 3  In the year before the 1904 St. Louis World's ...          1945   \n",
       " 4  Tom and Jerry is an American animated franchis...          1940   \n",
       " \n",
       "   age_certification  runtime  \\\n",
       " 0                PG      102   \n",
       " 1                 G      102   \n",
       " 2                PG      119   \n",
       " 3               NaN      113   \n",
       " 4               NaN        8   \n",
       " \n",
       "                                               genres production_countries  \\\n",
       " 0                        ['drama', 'romance', 'war']               ['US']   \n",
       " 1                              ['fantasy', 'family']               ['US']   \n",
       " 2                                          ['drama']               ['US']   \n",
       " 3  ['drama', 'family', 'romance', 'music', 'comedy']               ['US']   \n",
       " 4        ['animation', 'comedy', 'family', 'action']               ['US']   \n",
       " \n",
       "    seasons    imdb_id  imdb_score  imdb_votes  tmdb_popularity  tmdb_score  \n",
       " 0      NaN  tt0034583         8.5    577842.0           22.005       8.167  \n",
       " 1      NaN  tt0032138         8.1    406105.0           56.631       7.583  \n",
       " 2      NaN  tt0033467         8.3    446627.0           19.900       8.022  \n",
       " 3      NaN  tt0037059         7.5     25589.0            8.311       7.000  \n",
       " 4     16.0  tt6422744         7.7       859.0            1.400      10.000  ,\n",
       " 'Netflix':          id                                title   type  \\\n",
       " 0  ts300399  Five Came Back: The Reference Films   SHOW   \n",
       " 1   tm84618                          Taxi Driver  MOVIE   \n",
       " 2  tm154986                          Deliverance  MOVIE   \n",
       " 3  tm127384      Monty Python and the Holy Grail  MOVIE   \n",
       " 4  tm120801                      The Dirty Dozen  MOVIE   \n",
       " \n",
       "                                          description  release_year  \\\n",
       " 0  This collection includes 12 World War II-era p...          1945   \n",
       " 1  A mentally unstable Vietnam War veteran works ...          1976   \n",
       " 2  Intent on seeing the Cahulawassee River before...          1972   \n",
       " 3  King Arthur, accompanied by his squire, recrui...          1975   \n",
       " 4  12 American military prisoners in World War II...          1967   \n",
       " \n",
       "   age_certification  runtime                                       genres  \\\n",
       " 0             TV-MA       51                            ['documentation']   \n",
       " 1                 R      114                           ['drama', 'crime']   \n",
       " 2                 R      109  ['drama', 'action', 'thriller', 'european']   \n",
       " 3                PG       91              ['fantasy', 'action', 'comedy']   \n",
       " 4               NaN      150                            ['war', 'action']   \n",
       " \n",
       "   production_countries  seasons    imdb_id  imdb_score  imdb_votes  \\\n",
       " 0               ['US']      1.0        NaN         NaN         NaN   \n",
       " 1               ['US']      NaN  tt0075314         8.2    808582.0   \n",
       " 2               ['US']      NaN  tt0068473         7.7    107673.0   \n",
       " 3               ['GB']      NaN  tt0071853         8.2    534486.0   \n",
       " 4         ['GB', 'US']      NaN  tt0061578         7.7     72662.0   \n",
       " \n",
       "    tmdb_popularity  tmdb_score  \n",
       " 0            0.600         NaN  \n",
       " 1           40.965       8.179  \n",
       " 2           10.010       7.300  \n",
       " 3           15.461       7.811  \n",
       " 4           20.398       7.600  ,\n",
       " 'Paramount':          id                                             title   type  \\\n",
       " 0   tm19248                                       The General  MOVIE   \n",
       " 1   tm83884                                   His Girl Friday  MOVIE   \n",
       " 2   tm19424                                            Detour  MOVIE   \n",
       " 3  tm112005                                         Marihuana  MOVIE   \n",
       " 4   tm22806  Intolerance: Love's Struggle Throughout the Ages  MOVIE   \n",
       " \n",
       "                                          description  release_year  \\\n",
       " 0  During America’s Civil War, Union spies steal ...          1926   \n",
       " 1  Hildy, the journalist former wife of newspaper...          1940   \n",
       " 2  The life of Al Roberts, a pianist in a New Yor...          1945   \n",
       " 3  A young girl named Burma attends a beach party...          1936   \n",
       " 4  The story of a poor young woman, separated by ...          1916   \n",
       " \n",
       "   age_certification  runtime  \\\n",
       " 0               NaN       78   \n",
       " 1               NaN       92   \n",
       " 2               NaN       66   \n",
       " 3               NaN       57   \n",
       " 4               NaN      197   \n",
       " \n",
       "                                               genres production_countries  \\\n",
       " 0  ['action', 'drama', 'war', 'western', 'comedy'...               ['US']   \n",
       " 1                     ['comedy', 'drama', 'romance']               ['US']   \n",
       " 2                     ['thriller', 'drama', 'crime']               ['US']   \n",
       " 3                                 ['crime', 'drama']               ['US']   \n",
       " 4                               ['history', 'drama']               ['US']   \n",
       " \n",
       "    seasons    imdb_id  imdb_score  imdb_votes  tmdb_popularity  tmdb_score  \n",
       " 0      NaN  tt0017925         8.2     89766.0            8.647         8.0  \n",
       " 1      NaN  tt0032599         7.8     57835.0           11.270         7.4  \n",
       " 2      NaN  tt0037638         7.3     17233.0            7.757         7.2  \n",
       " 3      NaN  tt0026683         4.0       864.0            3.748         3.6  \n",
       " 4      NaN  tt0006864         7.7     15242.0            9.412         7.2  }"
      ]
     },
     "execution_count": 213,
     "metadata": {},
     "output_type": "execute_result"
    }
   ],
   "source": [
    "# Read in CSV as Data Frames\n",
    "Amazon_df = pd.read_csv('/Documents/GT/CSE 6040/AmazonPrimeTV.csv')\n",
    "AppleTV_df = pd.read_csv('/Documents/GT/CSE 6040/AppleTVPlus.csv')\n",
    "DisneyPlus_df = pd.read_csv('/Documents/GT/CSE 6040/DisneyPlus.csv')\n",
    "HBOMax_df = pd.read_csv('/Documents/GT/CSE 6040/Max.csv')\n",
    "Netflix_df = pd.read_csv('/Documents/GT/CSE 6040/Netflix.csv')\n",
    "ParamountTV_df = pd.read_csv('/Documents/GT/CSE 6040/ParamountTV.csv')\n",
    "\n",
    "# Display the first few rows of each DataFrame to inspect their structure\n",
    "dfs = {\n",
    "    \"Amazon Prime\": Amazon_df.head(5),\n",
    "    \"Apple TV Plus\": AppleTV_df.head(5),\n",
    "    \"Disney Plus\": DisneyPlus_df.head(5),\n",
    "    \"HBO Max\": HBOMax_df.head(5),\n",
    "    \"Netflix\": Netflix_df.head(5),\n",
    "    \"Paramount\": ParamountTV_df.head(5)\n",
    "}\n",
    "dfs"
   ]
  },
  {
   "cell_type": "markdown",
   "metadata": {},
   "source": [
    "Hmmm, there's a lot of data here. Considering we'll have to merge these datasets, and considering the datasets were curated months apart from each other, there are some columns that are more of a headache than they're worth to me. \n",
    "\n",
    "So, we'll get rid of some of the categorical features that change easily over time (`seasons`, `imdb_votes`), are redundant to other columns (`tmdb_score`, `imdb_id`), and are too difficult to get insight out of without using more advanced methods (`description`)."
   ]
  },
  {
   "cell_type": "code",
   "execution_count": 118,
   "metadata": {},
   "outputs": [
    {
     "name": "stdout",
     "output_type": "stream",
     "text": [
      "['id', 'title', 'type', 'release_year', 'age_certification', 'runtime', 'genres', 'production_countries', 'imdb_score', 'tmdb_popularity']\n"
     ]
    }
   ],
   "source": [
    "# Remove most qualitative data to reduce errors when merging\n",
    "df_list = [Amazon_df, AppleTV_df, DisneyPlus_df, HBOMax_df, Netflix_df, ParamountTV_df]\n",
    "col_to_drop = ['description','seasons','tmdb_score', 'imdb_votes', 'imdb_id']\n",
    "\n",
    "Amazon_df = Amazon_df.drop(columns = col_to_drop)\n",
    "AppleTV_df = AppleTV_df.drop(columns = col_to_drop)\n",
    "DisneyPlus_df = DisneyPlus_df.drop(columns = col_to_drop)\n",
    "HBOMax_df = HBOMax_df.drop(columns = col_to_drop)\n",
    "Netflix_df = Netflix_df.drop(columns = col_to_drop)\n",
    "ParamountTV_df = ParamountTV_df.drop(columns = col_to_drop)\n",
    "\n",
    "# Display the remaining columns\n",
    "print(Amazon_df.columns.to_list())"
   ]
  },
  {
   "cell_type": "markdown",
   "metadata": {},
   "source": [
    "Now that we have the structure we want, we can merge the datasets using the `outer join` method using the `id` of each movie as a key. We'll add a binary variable that indicates which streaming platform each movie is available on."
   ]
  },
  {
   "cell_type": "code",
   "execution_count": 119,
   "metadata": {},
   "outputs": [],
   "source": [
    "# Add a binary column to each DataFrame indicating platform availability\n",
    "Amazon_df['on_amazon'] = 1\n",
    "AppleTV_df['on_apple'] = 1\n",
    "DisneyPlus_df['on_disney'] = 1\n",
    "HBOMax_df['on_hbo'] = 1\n",
    "Netflix_df['on_netflix'] = 1\n",
    "ParamountTV_df['on_paramount'] = 1\n",
    "\n",
    "# Initialize merged DataFrame with the first DataFrame to set the structure\n",
    "merged_df = Amazon_df.copy()\n",
    "\n",
    "# List of dataframes for iterative merging\n",
    "merge_list = [AppleTV_df, DisneyPlus_df, HBOMax_df, Netflix_df, ParamountTV_df]\n",
    "merge_cols = ['id', 'title', 'type', 'release_year', 'age_certification', 'runtime', 'genres', 'production_countries', 'imdb_score', 'tmdb_popularity']\n",
    "\n",
    "# Merge each dataframe iteratively on 'id' column\n",
    "for df in merge_list:\n",
    "    merged_df = pd.merge(merged_df, df, on=merge_cols, how='outer', suffixes=('', '_dup'))\n",
    "\n",
    "merged_df.head(5)\n",
    "\n",
    "merged_df.to_csv('/Documents/GT/CSE 6040/Movies_merged.csv', index=False)"
   ]
  },
  {
   "cell_type": "markdown",
   "metadata": {},
   "source": [
    "When using `outer join`, you have to watch out for rows with similar, but not exact, data creating \"duplicate\" rows. Let's search to see how many we have."
   ]
  },
  {
   "cell_type": "code",
   "execution_count": 120,
   "metadata": {},
   "outputs": [
    {
     "data": {
      "text/html": [
       "<div>\n",
       "<style scoped>\n",
       "    .dataframe tbody tr th:only-of-type {\n",
       "        vertical-align: middle;\n",
       "    }\n",
       "\n",
       "    .dataframe tbody tr th {\n",
       "        vertical-align: top;\n",
       "    }\n",
       "\n",
       "    .dataframe thead th {\n",
       "        text-align: right;\n",
       "    }\n",
       "</style>\n",
       "<table border=\"1\" class=\"dataframe\">\n",
       "  <thead>\n",
       "    <tr style=\"text-align: right;\">\n",
       "      <th></th>\n",
       "      <th>id</th>\n",
       "      <th>title</th>\n",
       "      <th>type</th>\n",
       "      <th>release_year</th>\n",
       "      <th>age_certification</th>\n",
       "      <th>runtime</th>\n",
       "      <th>genres</th>\n",
       "      <th>production_countries</th>\n",
       "      <th>imdb_score</th>\n",
       "      <th>tmdb_popularity</th>\n",
       "      <th>on_amazon</th>\n",
       "      <th>on_apple</th>\n",
       "      <th>on_disney</th>\n",
       "      <th>on_hbo</th>\n",
       "      <th>on_netflix</th>\n",
       "      <th>on_paramount</th>\n",
       "    </tr>\n",
       "  </thead>\n",
       "  <tbody>\n",
       "    <tr>\n",
       "      <th>26</th>\n",
       "      <td>tm1000619</td>\n",
       "      <td>Radhe Shyam</td>\n",
       "      <td>MOVIE</td>\n",
       "      <td>2022</td>\n",
       "      <td>NaN</td>\n",
       "      <td>138</td>\n",
       "      <td>['drama', 'romance']</td>\n",
       "      <td>['IN']</td>\n",
       "      <td>5.3</td>\n",
       "      <td>5.537</td>\n",
       "      <td>NaN</td>\n",
       "      <td>NaN</td>\n",
       "      <td>NaN</td>\n",
       "      <td>NaN</td>\n",
       "      <td>1.0</td>\n",
       "      <td>NaN</td>\n",
       "    </tr>\n",
       "    <tr>\n",
       "      <th>27</th>\n",
       "      <td>tm1000619</td>\n",
       "      <td>Radhe Shyam</td>\n",
       "      <td>MOVIE</td>\n",
       "      <td>2022</td>\n",
       "      <td>NaN</td>\n",
       "      <td>138</td>\n",
       "      <td>['romance', 'drama']</td>\n",
       "      <td>['IN']</td>\n",
       "      <td>6.9</td>\n",
       "      <td>9.770</td>\n",
       "      <td>1.0</td>\n",
       "      <td>NaN</td>\n",
       "      <td>NaN</td>\n",
       "      <td>NaN</td>\n",
       "      <td>NaN</td>\n",
       "      <td>NaN</td>\n",
       "    </tr>\n",
       "    <tr>\n",
       "      <th>148</th>\n",
       "      <td>tm101406</td>\n",
       "      <td>Aparajito</td>\n",
       "      <td>MOVIE</td>\n",
       "      <td>1956</td>\n",
       "      <td>NaN</td>\n",
       "      <td>110</td>\n",
       "      <td>['drama']</td>\n",
       "      <td>['IN']</td>\n",
       "      <td>8.3</td>\n",
       "      <td>6.255</td>\n",
       "      <td>NaN</td>\n",
       "      <td>NaN</td>\n",
       "      <td>NaN</td>\n",
       "      <td>1.0</td>\n",
       "      <td>NaN</td>\n",
       "      <td>NaN</td>\n",
       "    </tr>\n",
       "    <tr>\n",
       "      <th>149</th>\n",
       "      <td>tm101406</td>\n",
       "      <td>Aparajito</td>\n",
       "      <td>MOVIE</td>\n",
       "      <td>1956</td>\n",
       "      <td>NaN</td>\n",
       "      <td>110</td>\n",
       "      <td>['drama']</td>\n",
       "      <td>['IN']</td>\n",
       "      <td>8.3</td>\n",
       "      <td>8.416</td>\n",
       "      <td>1.0</td>\n",
       "      <td>NaN</td>\n",
       "      <td>NaN</td>\n",
       "      <td>NaN</td>\n",
       "      <td>NaN</td>\n",
       "      <td>NaN</td>\n",
       "    </tr>\n",
       "    <tr>\n",
       "      <th>217</th>\n",
       "      <td>tm101914</td>\n",
       "      <td>The Fighter</td>\n",
       "      <td>MOVIE</td>\n",
       "      <td>2010</td>\n",
       "      <td>R</td>\n",
       "      <td>114</td>\n",
       "      <td>['drama']</td>\n",
       "      <td>['US']</td>\n",
       "      <td>NaN</td>\n",
       "      <td>14.111</td>\n",
       "      <td>1.0</td>\n",
       "      <td>NaN</td>\n",
       "      <td>NaN</td>\n",
       "      <td>NaN</td>\n",
       "      <td>NaN</td>\n",
       "      <td>1.0</td>\n",
       "    </tr>\n",
       "    <tr>\n",
       "      <th>218</th>\n",
       "      <td>tm101914</td>\n",
       "      <td>The Fighter</td>\n",
       "      <td>MOVIE</td>\n",
       "      <td>2010</td>\n",
       "      <td>R</td>\n",
       "      <td>115</td>\n",
       "      <td>['drama']</td>\n",
       "      <td>['US']</td>\n",
       "      <td>NaN</td>\n",
       "      <td>17.007</td>\n",
       "      <td>NaN</td>\n",
       "      <td>NaN</td>\n",
       "      <td>NaN</td>\n",
       "      <td>NaN</td>\n",
       "      <td>1.0</td>\n",
       "      <td>NaN</td>\n",
       "    </tr>\n",
       "  </tbody>\n",
       "</table>\n",
       "</div>"
      ],
      "text/plain": [
       "            id        title   type  release_year age_certification  runtime  \\\n",
       "26   tm1000619  Radhe Shyam  MOVIE          2022               NaN      138   \n",
       "27   tm1000619  Radhe Shyam  MOVIE          2022               NaN      138   \n",
       "148   tm101406    Aparajito  MOVIE          1956               NaN      110   \n",
       "149   tm101406    Aparajito  MOVIE          1956               NaN      110   \n",
       "217   tm101914  The Fighter  MOVIE          2010                 R      114   \n",
       "218   tm101914  The Fighter  MOVIE          2010                 R      115   \n",
       "\n",
       "                   genres production_countries  imdb_score  tmdb_popularity  \\\n",
       "26   ['drama', 'romance']               ['IN']         5.3            5.537   \n",
       "27   ['romance', 'drama']               ['IN']         6.9            9.770   \n",
       "148             ['drama']               ['IN']         8.3            6.255   \n",
       "149             ['drama']               ['IN']         8.3            8.416   \n",
       "217             ['drama']               ['US']         NaN           14.111   \n",
       "218             ['drama']               ['US']         NaN           17.007   \n",
       "\n",
       "     on_amazon  on_apple  on_disney  on_hbo  on_netflix  on_paramount  \n",
       "26         NaN       NaN        NaN     NaN         1.0           NaN  \n",
       "27         1.0       NaN        NaN     NaN         NaN           NaN  \n",
       "148        NaN       NaN        NaN     1.0         NaN           NaN  \n",
       "149        1.0       NaN        NaN     NaN         NaN           NaN  \n",
       "217        1.0       NaN        NaN     NaN         NaN           1.0  \n",
       "218        NaN       NaN        NaN     NaN         1.0           NaN  "
      ]
     },
     "execution_count": 120,
     "metadata": {},
     "output_type": "execute_result"
    }
   ],
   "source": [
    "# Check for duplicate rows based on 'id'\n",
    "duplicate_ids = merged_df.duplicated(subset='id', keep=False)\n",
    "duplicates_df = merged_df[duplicate_ids]\n",
    "\n",
    "# Display the DataFrame with potential duplicates\n",
    "duplicates_df.head(6)"
   ]
  },
  {
   "cell_type": "markdown",
   "metadata": {},
   "source": [
    "As stated above, the discrepancies most likely originate from data curation timelines. Thus, we can assume quantitative metrics, like `imdb_score` and `tmdb_popularity`, comprise the bulk of the discrepancies.\n",
    "\n",
    "Hence, we will now group the rows using the following rules:\n",
    "- Keep the categorical data constant\n",
    "- Use the mean of the quantitative data\n",
    "- Conserve the platform binary data"
   ]
  },
  {
   "cell_type": "code",
   "execution_count": 121,
   "metadata": {},
   "outputs": [
    {
     "data": {
      "text/html": [
       "<div>\n",
       "<style scoped>\n",
       "    .dataframe tbody tr th:only-of-type {\n",
       "        vertical-align: middle;\n",
       "    }\n",
       "\n",
       "    .dataframe tbody tr th {\n",
       "        vertical-align: top;\n",
       "    }\n",
       "\n",
       "    .dataframe thead th {\n",
       "        text-align: right;\n",
       "    }\n",
       "</style>\n",
       "<table border=\"1\" class=\"dataframe\">\n",
       "  <thead>\n",
       "    <tr style=\"text-align: right;\">\n",
       "      <th></th>\n",
       "      <th>id</th>\n",
       "      <th>title</th>\n",
       "      <th>type</th>\n",
       "      <th>release_year</th>\n",
       "      <th>age_certification</th>\n",
       "      <th>runtime</th>\n",
       "      <th>genres</th>\n",
       "      <th>production_countries</th>\n",
       "      <th>imdb_score</th>\n",
       "      <th>tmdb_popularity</th>\n",
       "      <th>on_amazon</th>\n",
       "      <th>on_apple</th>\n",
       "      <th>on_disney</th>\n",
       "      <th>on_hbo</th>\n",
       "      <th>on_netflix</th>\n",
       "      <th>on_paramount</th>\n",
       "    </tr>\n",
       "  </thead>\n",
       "  <tbody>\n",
       "  </tbody>\n",
       "</table>\n",
       "</div>"
      ],
      "text/plain": [
       "Empty DataFrame\n",
       "Columns: [id, title, type, release_year, age_certification, runtime, genres, production_countries, imdb_score, tmdb_popularity, on_amazon, on_apple, on_disney, on_hbo, on_netflix, on_paramount]\n",
       "Index: []"
      ]
     },
     "metadata": {},
     "output_type": "display_data"
    }
   ],
   "source": [
    "# Define a function to return 1 if any value is 1, otherwise NaN\n",
    "def max_or_nan(series: int) -> int:\n",
    "    return 1 if series.max() == 1 else np.nan\n",
    "\n",
    "# Filter the duplicates\n",
    "merged_df = (\n",
    "    merged_df\n",
    "    .groupby('id', as_index=False)\n",
    "    .agg({\n",
    "        'title': 'first',  # Keep the first title\n",
    "        'type': 'first',  # Keep the first type\n",
    "        'release_year': 'first',  # Keep the first release year\n",
    "        'age_certification': 'first',  # Keep the first age certification\n",
    "        'runtime': 'first',  # Keep the first runtime\n",
    "        'genres': 'first',  # Keep the first genres\n",
    "        'production_countries': 'first',  # Keep the first production countries\n",
    "        'imdb_score': 'mean',  # Average the scores\n",
    "        'tmdb_popularity': 'mean',  # Average the popularity\n",
    "        'on_amazon': max_or_nan,\n",
    "        'on_apple': max_or_nan,\n",
    "        'on_disney': max_or_nan,\n",
    "        'on_hbo': max_or_nan,\n",
    "        'on_netflix': max_or_nan,\n",
    "        'on_paramount': max_or_nan\n",
    "    })\n",
    ")\n",
    "\n",
    "# Check if grouping worked\n",
    "duplicate_ids = merged_df.duplicated(subset='id', keep=False)\n",
    "duplicates_df = merged_df[duplicate_ids]\n",
    "display(duplicates_df)"
   ]
  },
  {
   "cell_type": "markdown",
   "metadata": {},
   "source": [
    "Looks like it worked! Now let's move onto imputing the missing data."
   ]
  },
  {
   "cell_type": "code",
   "execution_count": 122,
   "metadata": {},
   "outputs": [],
   "source": [
    "# Convert the string representation of lists to actual lists\n",
    "merged_df['genres'] = merged_df['genres'].apply(ast.literal_eval)\n",
    "\n",
    "# Extract unique genres\n",
    "unique_genres = set()\n",
    "for genres in merged_df['genres']:\n",
    "    unique_genres.update(genres)\n",
    "\n",
    "# Sort genres to maintain consistency\n",
    "unique_genres = sorted(unique_genres)\n",
    "\n",
    "# Create a binary column for each genre\n",
    "for genre in unique_genres:\n",
    "    merged_df[f'{genre}'] = merged_df['genres'].apply(lambda x: int(genre in x))"
   ]
  },
  {
   "cell_type": "code",
   "execution_count": 123,
   "metadata": {},
   "outputs": [
    {
     "data": {
      "text/plain": [
       "['action',\n",
       " 'animation',\n",
       " 'comedy',\n",
       " 'crime',\n",
       " 'documentation',\n",
       " 'drama',\n",
       " 'european',\n",
       " 'family',\n",
       " 'fantasy',\n",
       " 'history',\n",
       " 'horror',\n",
       " 'music',\n",
       " 'reality',\n",
       " 'romance',\n",
       " 'scifi',\n",
       " 'sport',\n",
       " 'thriller',\n",
       " 'war',\n",
       " 'western']"
      ]
     },
     "execution_count": 123,
     "metadata": {},
     "output_type": "execute_result"
    }
   ],
   "source": [
    "# Now merged_df has a new binary column for each genre\n",
    "unique_genres"
   ]
  },
  {
   "cell_type": "code",
   "execution_count": 124,
   "metadata": {},
   "outputs": [
    {
     "name": "stdout",
     "output_type": "stream",
     "text": [
      "          id                        title   type  release_year  \\\n",
      "0        tm1                    Star Wars  MOVIE          1977   \n",
      "1       tm10                   The Matrix  MOVIE          1999   \n",
      "2    tm10000                    Jury Duty  MOVIE          1995   \n",
      "3   tm100001              The Lucky Texan  MOVIE          1934   \n",
      "4  tm1000022  Boonie Bears: The Wild Life  MOVIE          2021   \n",
      "\n",
      "  age_certification  runtime                      genres production_countries  \\\n",
      "0                PG      125    [scifi, action, fantasy]               ['US']   \n",
      "1                 R      136             [action, scifi]               ['US']   \n",
      "2             PG-13       88             [comedy, drama]               ['US']   \n",
      "3              None       61  [western, action, romance]               ['US']   \n",
      "4              None       99          [scifi, animation]               ['CN']   \n",
      "\n",
      "   imdb_score  tmdb_popularity  ...  history  horror  music  reality  romance  \\\n",
      "0         8.6           77.321  ...        0       0      0        0        0   \n",
      "1         8.7           76.460  ...        0       0      0        0        0   \n",
      "2         4.2            8.846  ...        0       0      0        0        0   \n",
      "3         5.6            4.079  ...        0       0      0        0        1   \n",
      "4         5.4            6.135  ...        0       0      0        0        0   \n",
      "\n",
      "   scifi  sport  thriller  war  western  \n",
      "0      1      0         0    0        0  \n",
      "1      1      0         0    0        0  \n",
      "2      0      0         0    0        0  \n",
      "3      0      0         0    0        1  \n",
      "4      1      0         0    0        0  \n",
      "\n",
      "[5 rows x 35 columns]\n"
     ]
    }
   ],
   "source": [
    "print(merged_df.head(5))"
   ]
  },
  {
   "cell_type": "markdown",
   "metadata": {},
   "source": [
    "### Imputation"
   ]
  },
  {
   "cell_type": "markdown",
   "metadata": {},
   "source": [
    "#### Basic Imputes"
   ]
  },
  {
   "cell_type": "markdown",
   "metadata": {},
   "source": [
    "Let's see which features we need to impute."
   ]
  },
  {
   "cell_type": "code",
   "execution_count": 125,
   "metadata": {},
   "outputs": [
    {
     "name": "stdout",
     "output_type": "stream",
     "text": [
      "id                          0\n",
      "title                       1\n",
      "type                        0\n",
      "release_year                0\n",
      "age_certification       10942\n",
      "runtime                     0\n",
      "genres                      0\n",
      "production_countries        0\n",
      "imdb_score               2391\n",
      "tmdb_popularity           717\n",
      "on_amazon               11474\n",
      "on_apple                21172\n",
      "on_disney               19807\n",
      "on_hbo                  18312\n",
      "on_netflix              15492\n",
      "on_paramount            18517\n",
      "action                      0\n",
      "animation                   0\n",
      "comedy                      0\n",
      "crime                       0\n",
      "documentation               0\n",
      "drama                       0\n",
      "european                    0\n",
      "family                      0\n",
      "fantasy                     0\n",
      "history                     0\n",
      "horror                      0\n",
      "music                       0\n",
      "reality                     0\n",
      "romance                     0\n",
      "scifi                       0\n",
      "sport                       0\n",
      "thriller                    0\n",
      "war                         0\n",
      "western                     0\n",
      "dtype: int64\n"
     ]
    }
   ],
   "source": [
    "# Check for NaN values across all columns\n",
    "nan_counts = merged_df.isna().sum()\n",
    "print(nan_counts)"
   ]
  },
  {
   "cell_type": "markdown",
   "metadata": {},
   "source": [
    "As you can see, the `on_{platform}` columns have `NaN` values for movies not found in the respective platform dataset. Let's impute these values with their logical binary equivalent, `0`."
   ]
  },
  {
   "cell_type": "code",
   "execution_count": 126,
   "metadata": {},
   "outputs": [
    {
     "data": {
      "text/html": [
       "<div>\n",
       "<style scoped>\n",
       "    .dataframe tbody tr th:only-of-type {\n",
       "        vertical-align: middle;\n",
       "    }\n",
       "\n",
       "    .dataframe tbody tr th {\n",
       "        vertical-align: top;\n",
       "    }\n",
       "\n",
       "    .dataframe thead th {\n",
       "        text-align: right;\n",
       "    }\n",
       "</style>\n",
       "<table border=\"1\" class=\"dataframe\">\n",
       "  <thead>\n",
       "    <tr style=\"text-align: right;\">\n",
       "      <th></th>\n",
       "      <th>id</th>\n",
       "      <th>title</th>\n",
       "      <th>type</th>\n",
       "      <th>release_year</th>\n",
       "      <th>age_certification</th>\n",
       "      <th>runtime</th>\n",
       "      <th>genres</th>\n",
       "      <th>production_countries</th>\n",
       "      <th>imdb_score</th>\n",
       "      <th>tmdb_popularity</th>\n",
       "      <th>...</th>\n",
       "      <th>history</th>\n",
       "      <th>horror</th>\n",
       "      <th>music</th>\n",
       "      <th>reality</th>\n",
       "      <th>romance</th>\n",
       "      <th>scifi</th>\n",
       "      <th>sport</th>\n",
       "      <th>thriller</th>\n",
       "      <th>war</th>\n",
       "      <th>western</th>\n",
       "    </tr>\n",
       "  </thead>\n",
       "  <tbody>\n",
       "    <tr>\n",
       "      <th>0</th>\n",
       "      <td>tm1</td>\n",
       "      <td>Star Wars</td>\n",
       "      <td>MOVIE</td>\n",
       "      <td>1977</td>\n",
       "      <td>PG</td>\n",
       "      <td>125</td>\n",
       "      <td>[scifi, action, fantasy]</td>\n",
       "      <td>['US']</td>\n",
       "      <td>8.6</td>\n",
       "      <td>77.321</td>\n",
       "      <td>...</td>\n",
       "      <td>0</td>\n",
       "      <td>0</td>\n",
       "      <td>0</td>\n",
       "      <td>0</td>\n",
       "      <td>0</td>\n",
       "      <td>1</td>\n",
       "      <td>0</td>\n",
       "      <td>0</td>\n",
       "      <td>0</td>\n",
       "      <td>0</td>\n",
       "    </tr>\n",
       "    <tr>\n",
       "      <th>1</th>\n",
       "      <td>tm10</td>\n",
       "      <td>The Matrix</td>\n",
       "      <td>MOVIE</td>\n",
       "      <td>1999</td>\n",
       "      <td>R</td>\n",
       "      <td>136</td>\n",
       "      <td>[action, scifi]</td>\n",
       "      <td>['US']</td>\n",
       "      <td>8.7</td>\n",
       "      <td>76.460</td>\n",
       "      <td>...</td>\n",
       "      <td>0</td>\n",
       "      <td>0</td>\n",
       "      <td>0</td>\n",
       "      <td>0</td>\n",
       "      <td>0</td>\n",
       "      <td>1</td>\n",
       "      <td>0</td>\n",
       "      <td>0</td>\n",
       "      <td>0</td>\n",
       "      <td>0</td>\n",
       "    </tr>\n",
       "    <tr>\n",
       "      <th>2</th>\n",
       "      <td>tm10000</td>\n",
       "      <td>Jury Duty</td>\n",
       "      <td>MOVIE</td>\n",
       "      <td>1995</td>\n",
       "      <td>PG-13</td>\n",
       "      <td>88</td>\n",
       "      <td>[comedy, drama]</td>\n",
       "      <td>['US']</td>\n",
       "      <td>4.2</td>\n",
       "      <td>8.846</td>\n",
       "      <td>...</td>\n",
       "      <td>0</td>\n",
       "      <td>0</td>\n",
       "      <td>0</td>\n",
       "      <td>0</td>\n",
       "      <td>0</td>\n",
       "      <td>0</td>\n",
       "      <td>0</td>\n",
       "      <td>0</td>\n",
       "      <td>0</td>\n",
       "      <td>0</td>\n",
       "    </tr>\n",
       "    <tr>\n",
       "      <th>3</th>\n",
       "      <td>tm100001</td>\n",
       "      <td>The Lucky Texan</td>\n",
       "      <td>MOVIE</td>\n",
       "      <td>1934</td>\n",
       "      <td>None</td>\n",
       "      <td>61</td>\n",
       "      <td>[western, action, romance]</td>\n",
       "      <td>['US']</td>\n",
       "      <td>5.6</td>\n",
       "      <td>4.079</td>\n",
       "      <td>...</td>\n",
       "      <td>0</td>\n",
       "      <td>0</td>\n",
       "      <td>0</td>\n",
       "      <td>0</td>\n",
       "      <td>1</td>\n",
       "      <td>0</td>\n",
       "      <td>0</td>\n",
       "      <td>0</td>\n",
       "      <td>0</td>\n",
       "      <td>1</td>\n",
       "    </tr>\n",
       "    <tr>\n",
       "      <th>4</th>\n",
       "      <td>tm1000022</td>\n",
       "      <td>Boonie Bears: The Wild Life</td>\n",
       "      <td>MOVIE</td>\n",
       "      <td>2021</td>\n",
       "      <td>None</td>\n",
       "      <td>99</td>\n",
       "      <td>[scifi, animation]</td>\n",
       "      <td>['CN']</td>\n",
       "      <td>5.4</td>\n",
       "      <td>6.135</td>\n",
       "      <td>...</td>\n",
       "      <td>0</td>\n",
       "      <td>0</td>\n",
       "      <td>0</td>\n",
       "      <td>0</td>\n",
       "      <td>0</td>\n",
       "      <td>1</td>\n",
       "      <td>0</td>\n",
       "      <td>0</td>\n",
       "      <td>0</td>\n",
       "      <td>0</td>\n",
       "    </tr>\n",
       "  </tbody>\n",
       "</table>\n",
       "<p>5 rows × 35 columns</p>\n",
       "</div>"
      ],
      "text/plain": [
       "          id                        title   type  release_year  \\\n",
       "0        tm1                    Star Wars  MOVIE          1977   \n",
       "1       tm10                   The Matrix  MOVIE          1999   \n",
       "2    tm10000                    Jury Duty  MOVIE          1995   \n",
       "3   tm100001              The Lucky Texan  MOVIE          1934   \n",
       "4  tm1000022  Boonie Bears: The Wild Life  MOVIE          2021   \n",
       "\n",
       "  age_certification  runtime                      genres production_countries  \\\n",
       "0                PG      125    [scifi, action, fantasy]               ['US']   \n",
       "1                 R      136             [action, scifi]               ['US']   \n",
       "2             PG-13       88             [comedy, drama]               ['US']   \n",
       "3              None       61  [western, action, romance]               ['US']   \n",
       "4              None       99          [scifi, animation]               ['CN']   \n",
       "\n",
       "   imdb_score  tmdb_popularity  ...  history  horror  music  reality  romance  \\\n",
       "0         8.6           77.321  ...        0       0      0        0        0   \n",
       "1         8.7           76.460  ...        0       0      0        0        0   \n",
       "2         4.2            8.846  ...        0       0      0        0        0   \n",
       "3         5.6            4.079  ...        0       0      0        0        1   \n",
       "4         5.4            6.135  ...        0       0      0        0        0   \n",
       "\n",
       "   scifi  sport  thriller  war  western  \n",
       "0      1      0         0    0        0  \n",
       "1      1      0         0    0        0  \n",
       "2      0      0         0    0        0  \n",
       "3      0      0         0    0        1  \n",
       "4      1      0         0    0        0  \n",
       "\n",
       "[5 rows x 35 columns]"
      ]
     },
     "execution_count": 126,
     "metadata": {},
     "output_type": "execute_result"
    }
   ],
   "source": [
    "# Fill NaN values with 0\n",
    "platform_columns = ['on_amazon', 'on_apple', 'on_disney', 'on_hbo', 'on_netflix', 'on_paramount']\n",
    "merged_df[platform_columns] = merged_df[platform_columns].fillna(0).astype(int)\n",
    "merged_df.head(5)"
   ]
  },
  {
   "cell_type": "markdown",
   "metadata": {},
   "source": [
    "Now, let's just get rid of that pesky `title` NaN value. We will just drop that `title`, since i can't think of a way to impute a `title` with the given data."
   ]
  },
  {
   "cell_type": "code",
   "execution_count": 127,
   "metadata": {},
   "outputs": [],
   "source": [
    "# Drop the NaN title row\n",
    "title_nan = merged_df[merged_df['title'].isna()]\n",
    "nan_index = title_nan.index.to_list()\n",
    "merged_df = merged_df.drop(nan_index)"
   ]
  },
  {
   "cell_type": "code",
   "execution_count": 128,
   "metadata": {},
   "outputs": [
    {
     "name": "stdout",
     "output_type": "stream",
     "text": [
      "(21341, 35) \n",
      "\n",
      "id                          0\n",
      "title                       0\n",
      "type                        0\n",
      "release_year                0\n",
      "age_certification       10941\n",
      "runtime                     0\n",
      "genres                      0\n",
      "production_countries        0\n",
      "imdb_score               2390\n",
      "tmdb_popularity           716\n",
      "on_amazon                   0\n",
      "on_apple                    0\n",
      "on_disney                   0\n",
      "on_hbo                      0\n",
      "on_netflix                  0\n",
      "on_paramount                0\n",
      "action                      0\n",
      "animation                   0\n",
      "comedy                      0\n",
      "crime                       0\n",
      "documentation               0\n",
      "drama                       0\n",
      "european                    0\n",
      "family                      0\n",
      "fantasy                     0\n",
      "history                     0\n",
      "horror                      0\n",
      "music                       0\n",
      "reality                     0\n",
      "romance                     0\n",
      "scifi                       0\n",
      "sport                       0\n",
      "thriller                    0\n",
      "war                         0\n",
      "western                     0\n",
      "dtype: int64\n"
     ]
    }
   ],
   "source": [
    "# Check for NaN values across all columns\n",
    "nan_counts = merged_df.isna().sum()\n",
    "print(merged_df.shape, \"\\n\")\n",
    "print(nan_counts)"
   ]
  },
  {
   "cell_type": "markdown",
   "metadata": {},
   "source": [
    "We will handle the rest of the imputes using `Regression` and `Logistic` models!"
   ]
  },
  {
   "cell_type": "markdown",
   "metadata": {},
   "source": [
    "#### Regression Imputes"
   ]
  },
  {
   "cell_type": "markdown",
   "metadata": {},
   "source": [
    "##### `imdb_score` Impute"
   ]
  },
  {
   "cell_type": "markdown",
   "metadata": {},
   "source": [
    "To impute using **Linear Regression**, we will split the data into **features** and a **target variable**."
   ]
  },
  {
   "cell_type": "code",
   "execution_count": 129,
   "metadata": {},
   "outputs": [],
   "source": [
    "# Ensure no NaN values in the target and features to train model\n",
    "feature_list = unique_genres + ['release_year', 'runtime', 'tmdb_popularity', 'on_amazon', 'on_apple', 'on_disney', 'on_hbo', 'on_netflix', 'on_paramount']\n",
    "clean_df = merged_df.dropna(subset= ['imdb_score', 'tmdb_popularity'] + feature_list)\n",
    "\n",
    "# Select features\n",
    "features = clean_df[feature_list]\n",
    "target = clean_df['imdb_score']"
   ]
  },
  {
   "cell_type": "markdown",
   "metadata": {},
   "source": [
    "**Linear Regression** assumes a roughly **normally distributed target variable**. We can use a histogram to visualize this:"
   ]
  },
  {
   "cell_type": "code",
   "execution_count": 130,
   "metadata": {},
   "outputs": [
    {
     "data": {
      "image/png": "[encoded data removed]",
      "text/plain": [
       "<Figure size 640x480 with 1 Axes>"
      ]
     },
     "metadata": {},
     "output_type": "display_data"
    }
   ],
   "source": [
    "# Histogram of imdb scores\n",
    "plt.style.use('dark_background')\n",
    "sns.histplot(target, kde=True)\n",
    "plt.title('Distribution of IMDb Scores')\n",
    "plt.show()"
   ]
  },
  {
   "cell_type": "markdown",
   "metadata": {},
   "source": [
    "> This looks pretty good! A little right skewed, but roughly normal to the eye. We can work with this."
   ]
  },
  {
   "cell_type": "markdown",
   "metadata": {},
   "source": [
    "Next, we split the data into **training** and **testing** subsets to later test the validitiy of the model."
   ]
  },
  {
   "cell_type": "code",
   "execution_count": 131,
   "metadata": {},
   "outputs": [],
   "source": [
    "# Splitting data into training and testing sets\n",
    "X_train, X_test, y_train, y_test = train_test_split(features, target, test_size=0.2, random_state=42)\n",
    "\n",
    "# Train the linear regression model\n",
    "model = LinearRegression()\n",
    "model.fit(X_train, y_train)\n",
    "\n",
    "y_pred = model.predict(X_test)"
   ]
  },
  {
   "cell_type": "markdown",
   "metadata": {},
   "source": [
    "Then, we plot the residuals on a **Quantile-Quantile (Q-Q) plot**. The more linear the realtionship, the higher the plausibility the data can be mapped to a normal distribution."
   ]
  },
  {
   "cell_type": "code",
   "execution_count": 132,
   "metadata": {},
   "outputs": [
    {
     "data": {
      "image/png": "[encoded data removed]",
      "text/plain": [
       "<Figure size 640x480 with 1 Axes>"
      ]
     },
     "metadata": {},
     "output_type": "display_data"
    }
   ],
   "source": [
    "# Q-Q plot for residuals\n",
    "residuals = y_test - y_pred\n",
    "stats.probplot(residuals, dist=\"norm\", plot=plt)\n",
    "plt.title('Q-Q Plot of Residuals')\n",
    "plt.show()"
   ]
  },
  {
   "cell_type": "markdown",
   "metadata": {},
   "source": [
    "> The **Q-Q plot** looks acceptable. I applied log and polynomial transformations, but they made the distribution worse. So I left it as so."
   ]
  },
  {
   "cell_type": "markdown",
   "metadata": {},
   "source": [
    "Now we can calculate the performance metrics for the model we will use to impute the `imdb_scores`."
   ]
  },
  {
   "cell_type": "code",
   "execution_count": 133,
   "metadata": {},
   "outputs": [
    {
     "name": "stdout",
     "output_type": "stream",
     "text": [
      "Mean Absolute Error: 0.854597818609052\n",
      "Mean Squared Error: 1.2046197817604223\n",
      "Root Mean Squared Error: 1.0975517216789477\n",
      "R-squared: 0.24655140972996592\n"
     ]
    },
    {
     "name": "stderr",
     "output_type": "stream",
     "text": [
      "c:\\Python312\\Lib\\site-packages\\sklearn\\metrics\\_regression.py:483: FutureWarning: 'squared' is deprecated in version 1.4 and will be removed in 1.6. To calculate the root mean squared error, use the function'root_mean_squared_error'.\n",
      "  warnings.warn(\n"
     ]
    }
   ],
   "source": [
    "# Check performance metrics for imdb score regression model\n",
    "mae = mean_absolute_error(y_test, y_pred)\n",
    "mse = mean_squared_error(y_test, y_pred)\n",
    "rmse = mean_squared_error(y_test, y_pred, squared=False)\n",
    "r2 = r2_score(y_test, y_pred)\n",
    "\n",
    "print(f\"Mean Absolute Error: {mae}\")\n",
    "print(f\"Mean Squared Error: {mse}\")\n",
    "print(f\"Root Mean Squared Error: {rmse}\")\n",
    "print(f\"R-squared: {r2}\")"
   ]
  },
  {
   "cell_type": "markdown",
   "metadata": {},
   "source": [
    "Performance of our regression model:\n",
    "\n",
    "1. **MAE (Mean Absolute Error) of 0.855**: This indicates that, on average, our model's predictions are about 0.855 points away from the actual `imdb_score` values. Given the typical scale of IMDb scores (1 to 10), this error could be considered moderate.\n",
    "\n",
    "2. **MSE (Mean Squared Error) of 1.205** and **RMSE (Root Mean Squared Error) of 1.098**: MSE and RMSE are both measures of the average squared magnitude of the error. This value indicates that there may be several instances where the predictions are significantly off. RMSE being around 1.098 suggests that the typical error is just over 1 point.\n",
    "\n",
    "3. **R-squared of 0.247**: This is moderatley low, indicating that only about 24.7% of the variance in the `imdb_score` is being explained by our model. This suggests that the predictors currently used might not be capturing a lot of the information necessary to accurately predict `imdb_score`, or that the linear relationship assumed by the regression model does not hold well."
   ]
  },
  {
   "cell_type": "markdown",
   "metadata": {},
   "source": [
    "Before we can impute the data, we have to handle the `NaN` values in `tmdb_popularity`. Later, I will impute `tmdb_popularity` with a regression model, so we'll temporarily impute `tmdb_popularity` with its mean. Then, use this as an input to predict the `imdb_score` imputes."
   ]
  },
  {
   "cell_type": "code",
   "execution_count": 134,
   "metadata": {},
   "outputs": [],
   "source": [
    "# Create temporary dataframe and impute `tmdb_popularity` using the mean\n",
    "temp_df = merged_df.copy()\n",
    "tmdb_popularity_mean = temp_df['tmdb_popularity'].mean()\n",
    "temp_df['tmdb_popularity'] = temp_df['tmdb_popularity'].fillna(tmdb_popularity_mean)\n",
    "\n",
    "# Predict missing imdb_scores\n",
    "imdb_score_predictions = model.predict(temp_df.loc[temp_df['imdb_score'].isna(), feature_list])\n",
    "merged_df.loc[merged_df['imdb_score'].isna(), 'imdb_score'] = np.round(imdb_score_predictions,1)"
   ]
  },
  {
   "cell_type": "code",
   "execution_count": 135,
   "metadata": {},
   "outputs": [
    {
     "name": "stdout",
     "output_type": "stream",
     "text": [
      "(21341, 35) \n",
      "\n",
      "id                          0\n",
      "title                       0\n",
      "type                        0\n",
      "release_year                0\n",
      "age_certification       10941\n",
      "runtime                     0\n",
      "genres                      0\n",
      "production_countries        0\n",
      "imdb_score                  0\n",
      "tmdb_popularity           716\n",
      "on_amazon                   0\n",
      "on_apple                    0\n",
      "on_disney                   0\n",
      "on_hbo                      0\n",
      "on_netflix                  0\n",
      "on_paramount                0\n",
      "action                      0\n",
      "animation                   0\n",
      "comedy                      0\n",
      "crime                       0\n",
      "documentation               0\n",
      "drama                       0\n",
      "european                    0\n",
      "family                      0\n",
      "fantasy                     0\n",
      "history                     0\n",
      "horror                      0\n",
      "music                       0\n",
      "reality                     0\n",
      "romance                     0\n",
      "scifi                       0\n",
      "sport                       0\n",
      "thriller                    0\n",
      "war                         0\n",
      "western                     0\n",
      "dtype: int64\n"
     ]
    }
   ],
   "source": [
    "# Check for NaN values across all columns\n",
    "nan_counts = merged_df.isna().sum()\n",
    "print(merged_df.shape, \"\\n\")\n",
    "print(nan_counts)"
   ]
  },
  {
   "cell_type": "markdown",
   "metadata": {},
   "source": [
    ">For further improvements that are outside the scope of this project, consider:\n",
    ">1. Using **non-linear regression** models for imputation (e.g. polynomial).\n",
    ">2. Use **decision trees** for imputation."
   ]
  },
  {
   "cell_type": "markdown",
   "metadata": {},
   "source": [
    "##### `tmdb_popularity` Impute"
   ]
  },
  {
   "cell_type": "markdown",
   "metadata": {},
   "source": [
    "This will seem like deja-vu, so I'll go quickly through it.\n",
    "\n",
    "Define features and target."
   ]
  },
  {
   "cell_type": "code",
   "execution_count": 136,
   "metadata": {},
   "outputs": [],
   "source": [
    "# Ensure no NaN values in the target and predictors to train model\n",
    "feature_list = unique_genres + ['release_year', 'runtime', 'imdb_score', 'on_amazon', 'on_apple', 'on_disney', 'on_hbo', 'on_netflix', 'on_paramount']\n",
    "clean_df = merged_df.dropna(subset= ['tmdb_popularity'] + feature_list)\n",
    "\n",
    "# Select features\n",
    "features = clean_df[feature_list]\n",
    "target = clean_df['tmdb_popularity']"
   ]
  },
  {
   "cell_type": "markdown",
   "metadata": {},
   "source": [
    "Look for normailty."
   ]
  },
  {
   "cell_type": "code",
   "execution_count": 137,
   "metadata": {},
   "outputs": [
    {
     "data": {
      "image/png": "[encoded data removed]",
      "text/plain": [
       "<Figure size 640x480 with 1 Axes>"
      ]
     },
     "metadata": {},
     "output_type": "display_data"
    }
   ],
   "source": [
    "# Histogram of tmdb_popularity scores\n",
    "plt.style.use('dark_background')\n",
    "sns.histplot(target, kde=True)\n",
    "plt.title('Distribution of TMDB Popularity Scores')\n",
    "plt.show()"
   ]
  },
  {
   "cell_type": "markdown",
   "metadata": {},
   "source": [
    "It's not normal, so let's use a log transform."
   ]
  },
  {
   "cell_type": "code",
   "execution_count": 138,
   "metadata": {},
   "outputs": [
    {
     "data": {
      "image/png": "[encoded data removed]",
      "text/plain": [
       "<Figure size 1000x600 with 1 Axes>"
      ]
     },
     "metadata": {},
     "output_type": "display_data"
    }
   ],
   "source": [
    "# Log transformation of tmdb_popularity scores\n",
    "target_log = np.log1p(target)\n",
    "plt.figure(figsize=(10, 6))\n",
    "sns.histplot(target_log, kde=True)\n",
    "plt.title('Log Transformed Distribution of TMDB Popularity Scores')\n",
    "plt.xlabel('log(tmdb_popularity)')\n",
    "plt.show()"
   ]
  },
  {
   "cell_type": "markdown",
   "metadata": {},
   "source": [
    "> This looks a lot closer to normally distributed. Still very left-skewed, but acceptable for our purposes.\n",
    "\n",
    "> Looking online, I found that `sklearn.preprocessing` has a `QuantileTransformer` that can transform  features to follow a uniform or a normal distribution. This would be better for our regression, but this falls outside the scope of this project."
   ]
  },
  {
   "cell_type": "markdown",
   "metadata": {},
   "source": [
    "Split into **train** and **test** subsets for validity."
   ]
  },
  {
   "cell_type": "code",
   "execution_count": 139,
   "metadata": {},
   "outputs": [],
   "source": [
    "# Splitting data into training and missing sets\n",
    "X_train, X_test, y_train, y_test = train_test_split(features, target_log, test_size=0.2, random_state=42)\n",
    "\n",
    "# Create and train the linear regression model\n",
    "model = LinearRegression()\n",
    "model.fit(X_train, y_train)\n",
    "\n",
    "y_pred = model.predict(X_test)"
   ]
  },
  {
   "cell_type": "markdown",
   "metadata": {},
   "source": [
    "**Q-Q plot** for model normality."
   ]
  },
  {
   "cell_type": "code",
   "execution_count": 140,
   "metadata": {},
   "outputs": [
    {
     "data": {
      "image/png": "[encoded data removed]",
      "text/plain": [
       "<Figure size 640x480 with 1 Axes>"
      ]
     },
     "metadata": {},
     "output_type": "display_data"
    }
   ],
   "source": [
    "# Q-Q plot for residuals\n",
    "y_test = np.exp(y_test)\n",
    "y_pred = np.exp(y_pred)\n",
    "\n",
    "residuals = y_test - y_pred\n",
    "stats.probplot(residuals, dist=\"norm\", plot=plt)\n",
    "plt.title('Q-Q Plot of Residuals')\n",
    "plt.show()"
   ]
  },
  {
   "cell_type": "markdown",
   "metadata": {},
   "source": [
    "> Not very inspiring. Looks linear for many of the datapoints, but there are some exponential outliers that ruin the normality of the relationship.\n",
    "\n",
    "Let's look at the performance metrics to see if this impute is better than just using the median or mode."
   ]
  },
  {
   "cell_type": "code",
   "execution_count": 141,
   "metadata": {},
   "outputs": [
    {
     "name": "stdout",
     "output_type": "stream",
     "text": [
      "Mean Absolute Error: 15.523681838997602\n",
      "Mean Squared Error: 26882.008177207543\n",
      "Root Mean Squared Error: 163.95733645435797\n",
      "R-squared: 0.016887558423248517\n"
     ]
    },
    {
     "name": "stderr",
     "output_type": "stream",
     "text": [
      "c:\\Python312\\Lib\\site-packages\\sklearn\\metrics\\_regression.py:483: FutureWarning: 'squared' is deprecated in version 1.4 and will be removed in 1.6. To calculate the root mean squared error, use the function'root_mean_squared_error'.\n",
      "  warnings.warn(\n"
     ]
    }
   ],
   "source": [
    "# Check performance metrics for imdb score regression model\n",
    "mae = mean_absolute_error(y_test, y_pred)\n",
    "mse = mean_squared_error(y_test, y_pred)\n",
    "rmse = mean_squared_error(y_test, y_pred, squared=False)\n",
    "r2 = r2_score(y_test, y_pred)\n",
    "\n",
    "print(f\"Mean Absolute Error: {mae}\")\n",
    "print(f\"Mean Squared Error: {mse}\")\n",
    "print(f\"Root Mean Squared Error: {rmse}\")\n",
    "print(f\"R-squared: {r2}\")"
   ]
  },
  {
   "cell_type": "markdown",
   "metadata": {},
   "source": [
    "Performance of our regression model:\n",
    "\n",
    "1. **Mean Absolute Error (MAE)**: On average, the predictions of our model are about 15.52 units away from the true values. Which, considering the `tmdb_popularity` scores are continuous and unbounded, isn't relatively high.\n",
    "\n",
    "2. **Mean Squared Error (MSE)**: The average of the squares of the errors is  26882.00. This is quite high, which suggests significant variance in the errors of the predictions. Since MSE is sensitive to outliers (due to squaring the errors), this high value could be influenced by the large outliers we noticed in the Q-Q plot.\n",
    "\n",
    "3. **Root Mean Squared Error (RMSE)**: An RMSE of 163.96 means that the typical prediction error is 163.96 units. RMSE is more sensitive to outliers than MAE.\n",
    "\n",
    "4. **R-squared (R²)**: The R² value is very close to zero, but it's positive, which is slightly better than just predicting the mean of the target for all observations. An R² score of 0 would indicate that the model explains none of the variability of the response data around its mean. Positive values of R² mean that the model is performing better than a horizontal line at the mean.\n",
    "\n",
    "In summary, the  R² value indicates that the model is capturing almost none of the variance of the `tmdb_popularity` scores. The high values of MAE and RMSE suggest that the model's predictions are quite far off from the actual values, which can also imply that the model is not a good fit for this data. Thus, we will resort to a simpler imputation method.\n",
    "\n",
    "Considering the extremely skewed distribution of the data, as shown above in the figure before we log transformed the data, we will impute using the median, rather than the mean, of `tmdb_popularity`, as the median is a better measure of central tendency for skewed data."
   ]
  },
  {
   "cell_type": "code",
   "execution_count": 142,
   "metadata": {},
   "outputs": [
    {
     "name": "stdout",
     "output_type": "stream",
     "text": [
      "Imputing `tmdb_popularity` with:  4.216\n"
     ]
    }
   ],
   "source": [
    "# Impute `tmdb_popularity` with the median\n",
    "tmdb_popularity_median = merged_df['tmdb_popularity'].median()\n",
    "print(\"Imputing `tmdb_popularity` with: \", tmdb_popularity_median)\n",
    "merged_df['tmdb_popularity'] = merged_df['tmdb_popularity'].fillna(tmdb_popularity_median)"
   ]
  },
  {
   "cell_type": "code",
   "execution_count": 143,
   "metadata": {},
   "outputs": [
    {
     "name": "stdout",
     "output_type": "stream",
     "text": [
      "(21341, 35) \n",
      "\n",
      "id                          0\n",
      "title                       0\n",
      "type                        0\n",
      "release_year                0\n",
      "age_certification       10941\n",
      "runtime                     0\n",
      "genres                      0\n",
      "production_countries        0\n",
      "imdb_score                  0\n",
      "tmdb_popularity             0\n",
      "on_amazon                   0\n",
      "on_apple                    0\n",
      "on_disney                   0\n",
      "on_hbo                      0\n",
      "on_netflix                  0\n",
      "on_paramount                0\n",
      "action                      0\n",
      "animation                   0\n",
      "comedy                      0\n",
      "crime                       0\n",
      "documentation               0\n",
      "drama                       0\n",
      "european                    0\n",
      "family                      0\n",
      "fantasy                     0\n",
      "history                     0\n",
      "horror                      0\n",
      "music                       0\n",
      "reality                     0\n",
      "romance                     0\n",
      "scifi                       0\n",
      "sport                       0\n",
      "thriller                    0\n",
      "war                         0\n",
      "western                     0\n",
      "dtype: int64\n"
     ]
    }
   ],
   "source": [
    "# Check for NaN values across all columns\n",
    "nan_counts = merged_df.isna().sum()\n",
    "print(merged_df.shape, \"\\n\")\n",
    "print(nan_counts)"
   ]
  },
  {
   "cell_type": "markdown",
   "metadata": {},
   "source": [
    ">For further improvements that are outside the scope of this project, consider:\n",
    ">1. Using **Random Forests** or **Gradient Boosted Trees** for imputation."
   ]
  },
  {
   "cell_type": "markdown",
   "metadata": {},
   "source": [
    "#### Logarithmic Impute"
   ]
  },
  {
   "cell_type": "markdown",
   "metadata": {},
   "source": [
    "##### `age_rating` Impute"
   ]
  },
  {
   "cell_type": "markdown",
   "metadata": {},
   "source": [
    "To start, let's look at the distribution of `age_rating`."
   ]
  },
  {
   "cell_type": "code",
   "execution_count": 144,
   "metadata": {},
   "outputs": [
    {
     "data": {
      "image/png": "[encoded data removed]",
      "text/plain": [
       "<Figure size 1000x800 with 1 Axes>"
      ]
     },
     "metadata": {},
     "output_type": "display_data"
    }
   ],
   "source": [
    "# Check age_certification distribution by using a pie chart\n",
    "age_rating_counts = merged_df['age_certification'].dropna().value_counts()\n",
    "plt.figure(figsize=(10, 8))\n",
    "colors = sns.color_palette('muted', len(age_rating_counts))\n",
    "plt.pie(age_rating_counts, labels=None, colors=colors, autopct='%1.1f%%', startangle=90)\n",
    "plt.axis('equal')\n",
    "plt.title('Distribution of Age Certifications (without NaN)')\n",
    "plt.legend(age_rating_counts.index, title='Age Certifications', loc='center left', bbox_to_anchor=(1, 0.5))\n",
    "plt.show()"
   ]
  },
  {
   "cell_type": "markdown",
   "metadata": {},
   "source": [
    "> The top 6 `age_rating` values have relatively equal shares of the distibutions. We'll reference this later."
   ]
  },
  {
   "cell_type": "markdown",
   "metadata": {},
   "source": [
    "Next, we **encode** the **categorical data** with **numeric labels**."
   ]
  },
  {
   "cell_type": "code",
   "execution_count": 145,
   "metadata": {},
   "outputs": [],
   "source": [
    "# Encode age_certification categories into numerical labels\n",
    "encoder = LabelEncoder()\n",
    "logistic_df = merged_df.copy()\n",
    "mask = logistic_df['age_certification'].notna()  # Mask for rows where age_certification is not missing\n",
    "logistic_df.loc[mask, 'age_certification_encoded'] = encoder.fit_transform(logistic_df.loc[mask, 'age_certification'])\n",
    "\n",
    "# Define predictors\n",
    "predictors = unique_genres + ['imdb_score', 'release_year', 'runtime', 'tmdb_popularity', 'on_amazon', 'on_apple', 'on_disney', 'on_hbo', 'on_netflix', 'on_paramount']\n",
    "X = logistic_df[predictors]\n",
    "\n",
    "# Scale the features using only the non-null age_certification rows\n",
    "scaler = StandardScaler()\n",
    "scaler.fit(X[mask])  # Fit scaler only on non-null rows\n",
    "X_scaled = scaler.transform(X)  # Transform all rows\n",
    "\n",
    "# Define the target variable using the non-null age_certification rows\n",
    "y = logistic_df.loc[mask, 'age_certification_encoded']"
   ]
  },
  {
   "cell_type": "markdown",
   "metadata": {},
   "source": [
    "Now, we split the data into `train` and `test` datasets. and train the model."
   ]
  },
  {
   "cell_type": "code",
   "execution_count": 146,
   "metadata": {},
   "outputs": [
    {
     "data": {
      "text/html": [
       "<style>#sk-container-id-3 {\n",
       "  /* Definition of color scheme common for light and dark mode */\n",
       "  --sklearn-color-text: black;\n",
       "  --sklearn-color-line: gray;\n",
       "  /* Definition of color scheme for unfitted estimators */\n",
       "  --sklearn-color-unfitted-level-0: #fff5e6;\n",
       "  --sklearn-color-unfitted-level-1: #f6e4d2;\n",
       "  --sklearn-color-unfitted-level-2: #ffe0b3;\n",
       "  --sklearn-color-unfitted-level-3: chocolate;\n",
       "  /* Definition of color scheme for fitted estimators */\n",
       "  --sklearn-color-fitted-level-0: #f0f8ff;\n",
       "  --sklearn-color-fitted-level-1: #d4ebff;\n",
       "  --sklearn-color-fitted-level-2: #b3dbfd;\n",
       "  --sklearn-color-fitted-level-3: cornflowerblue;\n",
       "\n",
       "  /* Specific color for light theme */\n",
       "  --sklearn-color-text-on-default-background: var(--sg-text-color, var(--theme-code-foreground, var(--jp-content-font-color1, black)));\n",
       "  --sklearn-color-background: var(--sg-background-color, var(--theme-background, var(--jp-layout-color0, white)));\n",
       "  --sklearn-color-border-box: var(--sg-text-color, var(--theme-code-foreground, var(--jp-content-font-color1, black)));\n",
       "  --sklearn-color-icon: #696969;\n",
       "\n",
       "  @media (prefers-color-scheme: dark) {\n",
       "    /* Redefinition of color scheme for dark theme */\n",
       "    --sklearn-color-text-on-default-background: var(--sg-text-color, var(--theme-code-foreground, var(--jp-content-font-color1, white)));\n",
       "    --sklearn-color-background: var(--sg-background-color, var(--theme-background, var(--jp-layout-color0, #111)));\n",
       "    --sklearn-color-border-box: var(--sg-text-color, var(--theme-code-foreground, var(--jp-content-font-color1, white)));\n",
       "    --sklearn-color-icon: #878787;\n",
       "  }\n",
       "}\n",
       "\n",
       "#sk-container-id-3 {\n",
       "  color: var(--sklearn-color-text);\n",
       "}\n",
       "\n",
       "#sk-container-id-3 pre {\n",
       "  padding: 0;\n",
       "}\n",
       "\n",
       "#sk-container-id-3 input.sk-hidden--visually {\n",
       "  border: 0;\n",
       "  clip: rect(1px 1px 1px 1px);\n",
       "  clip: rect(1px, 1px, 1px, 1px);\n",
       "  height: 1px;\n",
       "  margin: -1px;\n",
       "  overflow: hidden;\n",
       "  padding: 0;\n",
       "  position: absolute;\n",
       "  width: 1px;\n",
       "}\n",
       "\n",
       "#sk-container-id-3 div.sk-dashed-wrapped {\n",
       "  border: 1px dashed var(--sklearn-color-line);\n",
       "  margin: 0 0.4em 0.5em 0.4em;\n",
       "  box-sizing: border-box;\n",
       "  padding-bottom: 0.4em;\n",
       "  background-color: var(--sklearn-color-background);\n",
       "}\n",
       "\n",
       "#sk-container-id-3 div.sk-container {\n",
       "  /* jupyter's `normalize.less` sets `[hidden] { display: none; }`\n",
       "     but bootstrap.min.css set `[hidden] { display: none !important; }`\n",
       "     so we also need the `!important` here to be able to override the\n",
       "     default hidden behavior on the sphinx rendered scikit-learn.org.\n",
       "     See: https://github.com/scikit-learn/scikit-learn/issues/21755 */\n",
       "  display: inline-block !important;\n",
       "  position: relative;\n",
       "}\n",
       "\n",
       "#sk-container-id-3 div.sk-text-repr-fallback {\n",
       "  display: none;\n",
       "}\n",
       "\n",
       "div.sk-parallel-item,\n",
       "div.sk-serial,\n",
       "div.sk-item {\n",
       "  /* draw centered vertical line to link estimators */\n",
       "  background-image: linear-gradient(var(--sklearn-color-text-on-default-background), var(--sklearn-color-text-on-default-background));\n",
       "  background-size: 2px 100%;\n",
       "  background-repeat: no-repeat;\n",
       "  background-position: center center;\n",
       "}\n",
       "\n",
       "/* Parallel-specific style estimator block */\n",
       "\n",
       "#sk-container-id-3 div.sk-parallel-item::after {\n",
       "  content: \"\";\n",
       "  width: 100%;\n",
       "  border-bottom: 2px solid var(--sklearn-color-text-on-default-background);\n",
       "  flex-grow: 1;\n",
       "}\n",
       "\n",
       "#sk-container-id-3 div.sk-parallel {\n",
       "  display: flex;\n",
       "  align-items: stretch;\n",
       "  justify-content: center;\n",
       "  background-color: var(--sklearn-color-background);\n",
       "  position: relative;\n",
       "}\n",
       "\n",
       "#sk-container-id-3 div.sk-parallel-item {\n",
       "  display: flex;\n",
       "  flex-direction: column;\n",
       "}\n",
       "\n",
       "#sk-container-id-3 div.sk-parallel-item:first-child::after {\n",
       "  align-self: flex-end;\n",
       "  width: 50%;\n",
       "}\n",
       "\n",
       "#sk-container-id-3 div.sk-parallel-item:last-child::after {\n",
       "  align-self: flex-start;\n",
       "  width: 50%;\n",
       "}\n",
       "\n",
       "#sk-container-id-3 div.sk-parallel-item:only-child::after {\n",
       "  width: 0;\n",
       "}\n",
       "\n",
       "/* Serial-specific style estimator block */\n",
       "\n",
       "#sk-container-id-3 div.sk-serial {\n",
       "  display: flex;\n",
       "  flex-direction: column;\n",
       "  align-items: center;\n",
       "  background-color: var(--sklearn-color-background);\n",
       "  padding-right: 1em;\n",
       "  padding-left: 1em;\n",
       "}\n",
       "\n",
       "\n",
       "/* Toggleable style: style used for estimator/Pipeline/ColumnTransformer box that is\n",
       "clickable and can be expanded/collapsed.\n",
       "- Pipeline and ColumnTransformer use this feature and define the default style\n",
       "- Estimators will overwrite some part of the style using the `sk-estimator` class\n",
       "*/\n",
       "\n",
       "/* Pipeline and ColumnTransformer style (default) */\n",
       "\n",
       "#sk-container-id-3 div.sk-toggleable {\n",
       "  /* Default theme specific background. It is overwritten whether we have a\n",
       "  specific estimator or a Pipeline/ColumnTransformer */\n",
       "  background-color: var(--sklearn-color-background);\n",
       "}\n",
       "\n",
       "/* Toggleable label */\n",
       "#sk-container-id-3 label.sk-toggleable__label {\n",
       "  cursor: pointer;\n",
       "  display: block;\n",
       "  width: 100%;\n",
       "  margin-bottom: 0;\n",
       "  padding: 0.5em;\n",
       "  box-sizing: border-box;\n",
       "  text-align: center;\n",
       "}\n",
       "\n",
       "#sk-container-id-3 label.sk-toggleable__label-arrow:before {\n",
       "  /* Arrow on the left of the label */\n",
       "  content: \"▸\";\n",
       "  float: left;\n",
       "  margin-right: 0.25em;\n",
       "  color: var(--sklearn-color-icon);\n",
       "}\n",
       "\n",
       "#sk-container-id-3 label.sk-toggleable__label-arrow:hover:before {\n",
       "  color: var(--sklearn-color-text);\n",
       "}\n",
       "\n",
       "/* Toggleable content - dropdown */\n",
       "\n",
       "#sk-container-id-3 div.sk-toggleable__content {\n",
       "  max-height: 0;\n",
       "  max-width: 0;\n",
       "  overflow: hidden;\n",
       "  text-align: left;\n",
       "  /* unfitted */\n",
       "  background-color: var(--sklearn-color-unfitted-level-0);\n",
       "}\n",
       "\n",
       "#sk-container-id-3 div.sk-toggleable__content.fitted {\n",
       "  /* fitted */\n",
       "  background-color: var(--sklearn-color-fitted-level-0);\n",
       "}\n",
       "\n",
       "#sk-container-id-3 div.sk-toggleable__content pre {\n",
       "  margin: 0.2em;\n",
       "  border-radius: 0.25em;\n",
       "  color: var(--sklearn-color-text);\n",
       "  /* unfitted */\n",
       "  background-color: var(--sklearn-color-unfitted-level-0);\n",
       "}\n",
       "\n",
       "#sk-container-id-3 div.sk-toggleable__content.fitted pre {\n",
       "  /* unfitted */\n",
       "  background-color: var(--sklearn-color-fitted-level-0);\n",
       "}\n",
       "\n",
       "#sk-container-id-3 input.sk-toggleable__control:checked~div.sk-toggleable__content {\n",
       "  /* Expand drop-down */\n",
       "  max-height: 200px;\n",
       "  max-width: 100%;\n",
       "  overflow: auto;\n",
       "}\n",
       "\n",
       "#sk-container-id-3 input.sk-toggleable__control:checked~label.sk-toggleable__label-arrow:before {\n",
       "  content: \"▾\";\n",
       "}\n",
       "\n",
       "/* Pipeline/ColumnTransformer-specific style */\n",
       "\n",
       "#sk-container-id-3 div.sk-label input.sk-toggleable__control:checked~label.sk-toggleable__label {\n",
       "  color: var(--sklearn-color-text);\n",
       "  background-color: var(--sklearn-color-unfitted-level-2);\n",
       "}\n",
       "\n",
       "#sk-container-id-3 div.sk-label.fitted input.sk-toggleable__control:checked~label.sk-toggleable__label {\n",
       "  background-color: var(--sklearn-color-fitted-level-2);\n",
       "}\n",
       "\n",
       "/* Estimator-specific style */\n",
       "\n",
       "/* Colorize estimator box */\n",
       "#sk-container-id-3 div.sk-estimator input.sk-toggleable__control:checked~label.sk-toggleable__label {\n",
       "  /* unfitted */\n",
       "  background-color: var(--sklearn-color-unfitted-level-2);\n",
       "}\n",
       "\n",
       "#sk-container-id-3 div.sk-estimator.fitted input.sk-toggleable__control:checked~label.sk-toggleable__label {\n",
       "  /* fitted */\n",
       "  background-color: var(--sklearn-color-fitted-level-2);\n",
       "}\n",
       "\n",
       "#sk-container-id-3 div.sk-label label.sk-toggleable__label,\n",
       "#sk-container-id-3 div.sk-label label {\n",
       "  /* The background is the default theme color */\n",
       "  color: var(--sklearn-color-text-on-default-background);\n",
       "}\n",
       "\n",
       "/* On hover, darken the color of the background */\n",
       "#sk-container-id-3 div.sk-label:hover label.sk-toggleable__label {\n",
       "  color: var(--sklearn-color-text);\n",
       "  background-color: var(--sklearn-color-unfitted-level-2);\n",
       "}\n",
       "\n",
       "/* Label box, darken color on hover, fitted */\n",
       "#sk-container-id-3 div.sk-label.fitted:hover label.sk-toggleable__label.fitted {\n",
       "  color: var(--sklearn-color-text);\n",
       "  background-color: var(--sklearn-color-fitted-level-2);\n",
       "}\n",
       "\n",
       "/* Estimator label */\n",
       "\n",
       "#sk-container-id-3 div.sk-label label {\n",
       "  font-family: monospace;\n",
       "  font-weight: bold;\n",
       "  display: inline-block;\n",
       "  line-height: 1.2em;\n",
       "}\n",
       "\n",
       "#sk-container-id-3 div.sk-label-container {\n",
       "  text-align: center;\n",
       "}\n",
       "\n",
       "/* Estimator-specific */\n",
       "#sk-container-id-3 div.sk-estimator {\n",
       "  font-family: monospace;\n",
       "  border: 1px dotted var(--sklearn-color-border-box);\n",
       "  border-radius: 0.25em;\n",
       "  box-sizing: border-box;\n",
       "  margin-bottom: 0.5em;\n",
       "  /* unfitted */\n",
       "  background-color: var(--sklearn-color-unfitted-level-0);\n",
       "}\n",
       "\n",
       "#sk-container-id-3 div.sk-estimator.fitted {\n",
       "  /* fitted */\n",
       "  background-color: var(--sklearn-color-fitted-level-0);\n",
       "}\n",
       "\n",
       "/* on hover */\n",
       "#sk-container-id-3 div.sk-estimator:hover {\n",
       "  /* unfitted */\n",
       "  background-color: var(--sklearn-color-unfitted-level-2);\n",
       "}\n",
       "\n",
       "#sk-container-id-3 div.sk-estimator.fitted:hover {\n",
       "  /* fitted */\n",
       "  background-color: var(--sklearn-color-fitted-level-2);\n",
       "}\n",
       "\n",
       "/* Specification for estimator info (e.g. \"i\" and \"?\") */\n",
       "\n",
       "/* Common style for \"i\" and \"?\" */\n",
       "\n",
       ".sk-estimator-doc-link,\n",
       "a:link.sk-estimator-doc-link,\n",
       "a:visited.sk-estimator-doc-link {\n",
       "  float: right;\n",
       "  font-size: smaller;\n",
       "  line-height: 1em;\n",
       "  font-family: monospace;\n",
       "  background-color: var(--sklearn-color-background);\n",
       "  border-radius: 1em;\n",
       "  height: 1em;\n",
       "  width: 1em;\n",
       "  text-decoration: none !important;\n",
       "  margin-left: 1ex;\n",
       "  /* unfitted */\n",
       "  border: var(--sklearn-color-unfitted-level-1) 1pt solid;\n",
       "  color: var(--sklearn-color-unfitted-level-1);\n",
       "}\n",
       "\n",
       ".sk-estimator-doc-link.fitted,\n",
       "a:link.sk-estimator-doc-link.fitted,\n",
       "a:visited.sk-estimator-doc-link.fitted {\n",
       "  /* fitted */\n",
       "  border: var(--sklearn-color-fitted-level-1) 1pt solid;\n",
       "  color: var(--sklearn-color-fitted-level-1);\n",
       "}\n",
       "\n",
       "/* On hover */\n",
       "div.sk-estimator:hover .sk-estimator-doc-link:hover,\n",
       ".sk-estimator-doc-link:hover,\n",
       "div.sk-label-container:hover .sk-estimator-doc-link:hover,\n",
       ".sk-estimator-doc-link:hover {\n",
       "  /* unfitted */\n",
       "  background-color: var(--sklearn-color-unfitted-level-3);\n",
       "  color: var(--sklearn-color-background);\n",
       "  text-decoration: none;\n",
       "}\n",
       "\n",
       "div.sk-estimator.fitted:hover .sk-estimator-doc-link.fitted:hover,\n",
       ".sk-estimator-doc-link.fitted:hover,\n",
       "div.sk-label-container:hover .sk-estimator-doc-link.fitted:hover,\n",
       ".sk-estimator-doc-link.fitted:hover {\n",
       "  /* fitted */\n",
       "  background-color: var(--sklearn-color-fitted-level-3);\n",
       "  color: var(--sklearn-color-background);\n",
       "  text-decoration: none;\n",
       "}\n",
       "\n",
       "/* Span, style for the box shown on hovering the info icon */\n",
       ".sk-estimator-doc-link span {\n",
       "  display: none;\n",
       "  z-index: 9999;\n",
       "  position: relative;\n",
       "  font-weight: normal;\n",
       "  right: .2ex;\n",
       "  padding: .5ex;\n",
       "  margin: .5ex;\n",
       "  width: min-content;\n",
       "  min-width: 20ex;\n",
       "  max-width: 50ex;\n",
       "  color: var(--sklearn-color-text);\n",
       "  box-shadow: 2pt 2pt 4pt #999;\n",
       "  /* unfitted */\n",
       "  background: var(--sklearn-color-unfitted-level-0);\n",
       "  border: .5pt solid var(--sklearn-color-unfitted-level-3);\n",
       "}\n",
       "\n",
       ".sk-estimator-doc-link.fitted span {\n",
       "  /* fitted */\n",
       "  background: var(--sklearn-color-fitted-level-0);\n",
       "  border: var(--sklearn-color-fitted-level-3);\n",
       "}\n",
       "\n",
       ".sk-estimator-doc-link:hover span {\n",
       "  display: block;\n",
       "}\n",
       "\n",
       "/* \"?\"-specific style due to the `<a>` HTML tag */\n",
       "\n",
       "#sk-container-id-3 a.estimator_doc_link {\n",
       "  float: right;\n",
       "  font-size: 1rem;\n",
       "  line-height: 1em;\n",
       "  font-family: monospace;\n",
       "  background-color: var(--sklearn-color-background);\n",
       "  border-radius: 1rem;\n",
       "  height: 1rem;\n",
       "  width: 1rem;\n",
       "  text-decoration: none;\n",
       "  /* unfitted */\n",
       "  color: var(--sklearn-color-unfitted-level-1);\n",
       "  border: var(--sklearn-color-unfitted-level-1) 1pt solid;\n",
       "}\n",
       "\n",
       "#sk-container-id-3 a.estimator_doc_link.fitted {\n",
       "  /* fitted */\n",
       "  border: var(--sklearn-color-fitted-level-1) 1pt solid;\n",
       "  color: var(--sklearn-color-fitted-level-1);\n",
       "}\n",
       "\n",
       "/* On hover */\n",
       "#sk-container-id-3 a.estimator_doc_link:hover {\n",
       "  /* unfitted */\n",
       "  background-color: var(--sklearn-color-unfitted-level-3);\n",
       "  color: var(--sklearn-color-background);\n",
       "  text-decoration: none;\n",
       "}\n",
       "\n",
       "#sk-container-id-3 a.estimator_doc_link.fitted:hover {\n",
       "  /* fitted */\n",
       "  background-color: var(--sklearn-color-fitted-level-3);\n",
       "}\n",
       "</style><div id=\"sk-container-id-3\" class=\"sk-top-container\"><div class=\"sk-text-repr-fallback\"><pre>LogisticRegression(max_iter=3000)</pre><b>In a Jupyter environment, please rerun this cell to show the HTML representation or trust the notebook. <br />On GitHub, the HTML representation is unable to render, please try loading this page with nbviewer.org.</b></div><div class=\"sk-container\" hidden><div class=\"sk-item\"><div class=\"sk-estimator fitted sk-toggleable\"><input class=\"sk-toggleable__control sk-hidden--visually\" id=\"sk-estimator-id-3\" type=\"checkbox\" checked><label for=\"sk-estimator-id-3\" class=\"sk-toggleable__label fitted sk-toggleable__label-arrow fitted\">&nbsp;&nbsp;LogisticRegression<a class=\"sk-estimator-doc-link fitted\" rel=\"noreferrer\" target=\"_blank\" href=\"https://scikit-learn.org/1.4/modules/generated/sklearn.linear_model.LogisticRegression.html\">?<span>Documentation for LogisticRegression</span></a><span class=\"sk-estimator-doc-link fitted\">i<span>Fitted</span></span></label><div class=\"sk-toggleable__content fitted\"><pre>LogisticRegression(max_iter=3000)</pre></div> </div></div></div></div>"
      ],
      "text/plain": [
       "LogisticRegression(max_iter=3000)"
      ]
     },
     "execution_count": 146,
     "metadata": {},
     "output_type": "execute_result"
    }
   ],
   "source": [
    "# Split the dataset into training and test sets\n",
    "X_train, X_test, y_train, y_test = train_test_split(X_scaled[mask], y, test_size=0.2, random_state=42)\n",
    "\n",
    "# Train the Logistic Regression model\n",
    "logistic_model = LogisticRegression(max_iter=3000)\n",
    "logistic_model.fit(X_train, y_train)"
   ]
  },
  {
   "cell_type": "markdown",
   "metadata": {},
   "source": [
    "Then, let's calculate the performance metrics and see if we want to use this model to impute as opposed to another method."
   ]
  },
  {
   "cell_type": "code",
   "execution_count": 147,
   "metadata": {},
   "outputs": [
    {
     "name": "stdout",
     "output_type": "stream",
     "text": [
      "Accuracy: 0.5134615384615384\n",
      "\n",
      "Precision: 0.49871878902879374\n",
      "\n",
      "Recall: 0.5134615384615384\n",
      "\n"
     ]
    }
   ],
   "source": [
    "# Calculate metrics\n",
    "y_pred = logistic_model.predict(X_test)\n",
    "\n",
    "accuracy = accuracy_score(y_test, y_pred)\n",
    "precision = precision_score(y_test, y_pred, average='weighted', zero_division=True)  # or 'micro', 'macro', 'weighted' based on your need\n",
    "recall = recall_score(y_test, y_pred, average='weighted')\n",
    "\n",
    "# Print the metrics\n",
    "print(f\"Accuracy: {accuracy}\\n\")\n",
    "print(f\"Precision: {precision}\\n\")\n",
    "print(f\"Recall: {recall}\\n\")"
   ]
  },
  {
   "cell_type": "markdown",
   "metadata": {},
   "source": [
    "1. **Accuracy**: Since we observed 6 roughly equally distributed classes, the random chance accuracy would be around 16.7%. The model's accuracy of 43.65% is significantly higher than this baseline.\n",
    "\n",
    "2. **Precision and Recall**: Precision and recall provide insights into the model's performance on a per-class basis. Given the model's precision and recall are similar to its accuracy, it suggests some consistency in the model's ability to predict across different classes.\n",
    "\n",
    "Since an accuracy of 51.35% is well above what would be expected by random guessing, especially considering there are multiple classes, this indicates that the model is a good choice over more basic imputation methods.\n",
    "\n",
    "Let's look at the **confusion matrix** to see the **accuracy** and **precision** visualized. "
   ]
  },
  {
   "cell_type": "code",
   "execution_count": 148,
   "metadata": {},
   "outputs": [
    {
     "data": {
      "image/png": "[encoded data removed]",
      "text/plain": [
       "<Figure size 1200x800 with 2 Axes>"
      ]
     },
     "metadata": {},
     "output_type": "display_data"
    }
   ],
   "source": [
    "# Generate and plot the confusion matrix only for known data\n",
    "cm_labels = np.unique(y_pred).astype(int)\n",
    "cm = confusion_matrix(y_test, y_pred, labels=cm_labels)\n",
    "plt.figure(figsize=(12, 8))\n",
    "sns.heatmap(cm, annot=True, fmt='d', cmap='Blues', xticklabels=encoder.inverse_transform(cm_labels), yticklabels=encoder.inverse_transform(cm_labels))\n",
    "plt.ylabel('Actual')\n",
    "plt.xlabel('Predicted')\n",
    "plt.title('Confusion Matrix for Age Certification Predictions')\n",
    "plt.show()"
   ]
  },
  {
   "cell_type": "markdown",
   "metadata": {},
   "source": [
    ">It looks like `PG-13` and `TV-14` are the hardest to predict for our model. This may make sense since they share some features with the higher and lower ratings, thus making them hard to distinguish. "
   ]
  },
  {
   "cell_type": "markdown",
   "metadata": {},
   "source": [
    "Now, let's impute using the model."
   ]
  },
  {
   "cell_type": "code",
   "execution_count": 149,
   "metadata": {},
   "outputs": [],
   "source": [
    "# Predict age_certification for rows where it's missing\n",
    "predicted_certifications = logistic_model.predict(X_scaled[~mask]).astype(int)\n",
    "predicted_labels = encoder.inverse_transform(predicted_certifications)\n",
    "merged_df.loc[~mask, 'age_certification'] = predicted_labels"
   ]
  },
  {
   "cell_type": "code",
   "execution_count": 150,
   "metadata": {},
   "outputs": [
    {
     "name": "stdout",
     "output_type": "stream",
     "text": [
      "id                      0\n",
      "title                   0\n",
      "type                    0\n",
      "release_year            0\n",
      "age_certification       0\n",
      "runtime                 0\n",
      "genres                  0\n",
      "production_countries    0\n",
      "imdb_score              0\n",
      "tmdb_popularity         0\n",
      "on_amazon               0\n",
      "on_apple                0\n",
      "on_disney               0\n",
      "on_hbo                  0\n",
      "on_netflix              0\n",
      "on_paramount            0\n",
      "action                  0\n",
      "animation               0\n",
      "comedy                  0\n",
      "crime                   0\n",
      "documentation           0\n",
      "drama                   0\n",
      "european                0\n",
      "family                  0\n",
      "fantasy                 0\n",
      "history                 0\n",
      "horror                  0\n",
      "music                   0\n",
      "reality                 0\n",
      "romance                 0\n",
      "scifi                   0\n",
      "sport                   0\n",
      "thriller                0\n",
      "war                     0\n",
      "western                 0\n",
      "dtype: int64\n"
     ]
    }
   ],
   "source": [
    "# Check for NaN values across all columns\n",
    "nan_counts = merged_df.isna().sum()\n",
    "print(nan_counts)"
   ]
  },
  {
   "cell_type": "markdown",
   "metadata": {},
   "source": [
    "## Analysis"
   ]
  },
  {
   "cell_type": "markdown",
   "metadata": {},
   "source": [
    "Now that we've gone through all that cleaning and imputing, analysis should be pretty easy. Lets first start with the hypotheses, then move into the recommendation model."
   ]
  },
  {
   "cell_type": "markdown",
   "metadata": {},
   "source": [
    "***Recall:***\n",
    "\n",
    "- **Hypothesis**: Which streaming platform has more critically acclaimed movies/shows?\n",
    "  - **Prediction**: *HBO Max*\n",
    "- **Hypothesis**: Which streaming platform has more popular movies/shows?\n",
    "  - **Prediction**: *Netflix*\n",
    "- **Hypothesis**: Which streaming platform has more kid friendly movies/shows?\n",
    "  - **Prediction**: *Disney+*\n",
    "- **Hypothesis**: Which streaming platform has more diversity?\n",
    "  - **Prediction**: *Amazon*\n",
    "- **Model**: Create a recommnedation system using `KNN` on movie features.\n",
    "  - Use `regex` to create a fuzzy movie search feature.\n",
    "  - Use `kmeans` and `PCA` to feature engineer categorical data, like `genres`."
   ]
  },
  {
   "cell_type": "code",
   "execution_count": 214,
   "metadata": {},
   "outputs": [
    {
     "name": "stdout",
     "output_type": "stream",
     "text": [
      "          id                        title   type  release_year  \\\n",
      "0        tm1                    Star Wars  MOVIE          1977   \n",
      "1       tm10                   The Matrix  MOVIE          1999   \n",
      "2    tm10000                    Jury Duty  MOVIE          1995   \n",
      "3   tm100001              The Lucky Texan  MOVIE          1934   \n",
      "4  tm1000022  Boonie Bears: The Wild Life  MOVIE          2021   \n",
      "5  tm1000037                 Je suis Karl  MOVIE          2021   \n",
      "6   tm100005                    Airplane!  MOVIE          1980   \n",
      "7   tm100013    The Search for Santa Paws  MOVIE          2010   \n",
      "8  tm1000147                     Zone 414  MOVIE          2021   \n",
      "9   tm100015                       Takers  MOVIE          2010   \n",
      "\n",
      "  age_certification  runtime                                genres  \\\n",
      "0                PG      125              [scifi, action, fantasy]   \n",
      "1                 R      136                       [action, scifi]   \n",
      "2             PG-13       88                       [comedy, drama]   \n",
      "3                 G       61            [western, action, romance]   \n",
      "4                PG       99                    [scifi, animation]   \n",
      "5                 R      126  [drama, thriller, european, romance]   \n",
      "6                PG       88                              [comedy]   \n",
      "7                 G       89                      [family, action]   \n",
      "8                 R       98                     [scifi, thriller]   \n",
      "9             PG-13      107      [action, crime, drama, thriller]   \n",
      "\n",
      "  production_countries  imdb_score  tmdb_popularity  ...  history  horror  \\\n",
      "0               ['US']         8.6           77.321  ...        0       0   \n",
      "1               ['US']         8.7           76.460  ...        0       0   \n",
      "2               ['US']         4.2            8.846  ...        0       0   \n",
      "3               ['US']         5.6            4.079  ...        0       0   \n",
      "4               ['CN']         5.4            6.135  ...        0       0   \n",
      "5         ['CZ', 'DE']         5.4           12.981  ...        0       0   \n",
      "6               ['US']         7.7           24.807  ...        0       0   \n",
      "7               ['CA']         5.8            8.059  ...        0       0   \n",
      "8               ['GB']         4.9          121.562  ...        0       0   \n",
      "9               ['US']         6.2           15.872  ...        0       0   \n",
      "\n",
      "   music  reality  romance  scifi  sport  thriller  war  western  \n",
      "0      0        0        0      1      0         0    0        0  \n",
      "1      0        0        0      1      0         0    0        0  \n",
      "2      0        0        0      0      0         0    0        0  \n",
      "3      0        0        1      0      0         0    0        1  \n",
      "4      0        0        0      1      0         0    0        0  \n",
      "5      0        0        1      0      0         1    0        0  \n",
      "6      0        0        0      0      0         0    0        0  \n",
      "7      0        0        0      0      0         0    0        0  \n",
      "8      0        0        0      1      0         1    0        0  \n",
      "9      0        0        0      0      0         1    0        0  \n",
      "\n",
      "[10 rows x 35 columns]\n"
     ]
    }
   ],
   "source": [
    "# Visualize the cleaned merged_df\n",
    "print(merged_df.head(10))"
   ]
  },
  {
   "cell_type": "markdown",
   "metadata": {},
   "source": [
    "### Hypotheses"
   ]
  },
  {
   "cell_type": "markdown",
   "metadata": {},
   "source": [
    "Let's start by looking at the prices of these streaming platforms without ads (as of April, 2024):\n",
    "\n",
    "|Platform | Price/Month |\n",
    "|---|---|\n",
    "|AppleTV| $9.99|\n",
    "|Amazon Video| $11.98|\n",
    "|Paramount+| $11.99|\n",
    "|Disney+| $13.99|\n",
    "|Netflix| $15.49|\n",
    "|HBO Max| $15.99|"
   ]
  },
  {
   "cell_type": "code",
   "execution_count": 152,
   "metadata": {},
   "outputs": [],
   "source": [
    "# Initialize the prices\n",
    "prices = {'Apple': 9.99,\n",
    "          'Amazon': 11.98, \n",
    "          'Paramount': 11.99,\n",
    "          'Disney': 13.99,\n",
    "          'Netflix': 15.49,\n",
    "          'Max': 15.99}"
   ]
  },
  {
   "cell_type": "markdown",
   "metadata": {},
   "source": [
    "#### Critically Acclaimed"
   ]
  },
  {
   "cell_type": "markdown",
   "metadata": {},
   "source": [
    "**Hypothesis**: Which streaming platform has more critically acclaimed movies?\n",
    "  - **Prediction**: *HBO Max*\n",
    "\n",
    "We'll count all the `imdb_score` values above a threshold and then plot them for each platform."
   ]
  },
  {
   "cell_type": "code",
   "execution_count": 153,
   "metadata": {},
   "outputs": [],
   "source": [
    "# Define a threshold for critically acclaimed movies\n",
    "critically_acclaimed_threshold = 7.0\n",
    "\n",
    "# Filter the DataFrame for critically acclaimed movies\n",
    "critically_acclaimed_df = merged_df[merged_df['imdb_score'] >= critically_acclaimed_threshold]\n",
    "\n",
    "# Count the number of critically acclaimed movies on each platform\n",
    "acclaimed_counts = {\n",
    "    'Amazon': critically_acclaimed_df['on_amazon'].sum(),\n",
    "    'Apple': critically_acclaimed_df['on_apple'].sum(),\n",
    "    'Disney': critically_acclaimed_df['on_disney'].sum(),\n",
    "    'Max': critically_acclaimed_df['on_hbo'].sum(),\n",
    "    'Netflix': critically_acclaimed_df['on_netflix'].sum(),\n",
    "    'Paramount': critically_acclaimed_df['on_paramount'].sum(),\n",
    "}\n",
    "\n",
    "# Sorting the acclaimed_counts dictionary by values and reversing it to get from most to least\n",
    "sorted_acclaimed_counts = dict(sorted(acclaimed_counts.items(), key=lambda item: item[1], reverse=True))"
   ]
  },
  {
   "cell_type": "code",
   "execution_count": 154,
   "metadata": {},
   "outputs": [
    {
     "data": {
      "image/png": "[encoded data removed]",
      "text/plain": [
       "<Figure size 1000x600 with 1 Axes>"
      ]
     },
     "metadata": {},
     "output_type": "display_data"
    }
   ],
   "source": [
    "# Prepare the data for visualization\n",
    "platforms, counts = zip(*sorted_acclaimed_counts.items())\n",
    "\n",
    "# Plotting\n",
    "plt.figure(figsize=(10, 6))\n",
    "sns.barplot(x=platforms, y=counts, palette='viridis', hue=platforms, legend=False)\n",
    "plt.title('Number of Critically Acclaimed Movies by Streaming Service')\n",
    "plt.ylabel('Number of Movies')\n",
    "plt.xlabel('Streaming Service')\n",
    "plt.xticks(rotation=45)\n",
    "plt.tight_layout()\n",
    "plt.show()"
   ]
  },
  {
   "cell_type": "markdown",
   "metadata": {},
   "source": [
    "**Amazon** has the most critically acclaimed movies in their database, closely followed by **Netflix**. \n",
    "\n",
    "Which of these would be the best bang-for-buck?"
   ]
  },
  {
   "cell_type": "code",
   "execution_count": 155,
   "metadata": {},
   "outputs": [
    {
     "name": "stdout",
     "output_type": "stream",
     "text": [
      "{'Amazon': 0.0054, 'Netflix': 0.0072, 'Max': 0.0097, 'Paramount': 0.0172, 'Disney': 0.0228, 'Apple': 0.09}\n"
     ]
    }
   ],
   "source": [
    "# Calculate dollars per critically acclaimed movie\n",
    "dollars_per_acclaimed = {\n",
    "    platform: (np.round(prices[platform] / acclaimed_counts[platform], 4)) for platform in prices.keys() if acclaimed_counts[platform] \n",
    "}\n",
    "\n",
    "# Sort dictionary by values in ascending order\n",
    "sorted_dict = dict(sorted(dollars_per_acclaimed.items(), key=lambda item: item[1]))\n",
    "print(sorted_dict)\n"
   ]
  },
  {
   "cell_type": "code",
   "execution_count": 219,
   "metadata": {},
   "outputs": [
    {
     "data": {
      "image/png": "[encoded data removed]",
      "text/plain": [
       "<Figure size 1000x600 with 1 Axes>"
      ]
     },
     "metadata": {},
     "output_type": "display_data"
    }
   ],
   "source": [
    "# Prepare the data for visualization\n",
    "platforms, price = zip(*sorted_dict.items())\n",
    "\n",
    "# Plotting\n",
    "plt.figure(figsize=(10, 6))\n",
    "sns.barplot(x=platforms, y=price, palette='viridis', hue=platforms, legend=False)\n",
    "plt.title('Cost per Critically Acclaimed Movies by Streaming Service')\n",
    "plt.ylabel('$')\n",
    "plt.xlabel('Streaming Service')\n",
    "plt.xticks(rotation=45)\n",
    "plt.tight_layout()\n",
    "plt.show()"
   ]
  },
  {
   "cell_type": "markdown",
   "metadata": {},
   "source": [
    "The standings are the same!\n",
    "\n",
    "If you prioritze critically acclaimed movies, then **Amazon** and **Netflix** are the are the best values, at **$0.0054/movie** and **$0.0072/movie** respectfully."
   ]
  },
  {
   "cell_type": "markdown",
   "metadata": {},
   "source": [
    "#### Popularity"
   ]
  },
  {
   "cell_type": "markdown",
   "metadata": {},
   "source": [
    "We can define a movie to be popular when the `tmdb_popularity` **> 100**. This is honestly completely arbitrary since anything above 20 has a constant distribution with relation to these scores, so I just chose 100."
   ]
  },
  {
   "cell_type": "code",
   "execution_count": 215,
   "metadata": {},
   "outputs": [],
   "source": [
    "# Define a threshold for popular movies\n",
    "popularity_threshold = 200\n",
    "\n",
    "# Filter the DataFrame for popular movies\n",
    "popularity_df = merged_df[merged_df['tmdb_popularity'] >= popularity_threshold]\n",
    "\n",
    "# Count the number of popular movies on each platform\n",
    "popularity_counts = {\n",
    "    'Amazon': popularity_df['on_amazon'].sum(),\n",
    "    'Apple': popularity_df['on_apple'].sum(),\n",
    "    'Disney': popularity_df['on_disney'].sum(),\n",
    "    'Max': popularity_df['on_hbo'].sum(),\n",
    "    'Netflix': popularity_df['on_netflix'].sum(),\n",
    "    'Paramount': popularity_df['on_paramount'].sum(),\n",
    "}\n",
    "\n",
    "# Sorting the popularity_counts dictionary by values and reversing it to get from most to least\n",
    "sorted_popularity_counts = dict(sorted(popularity_counts.items(), key=lambda item: item[1], reverse=True))"
   ]
  },
  {
   "cell_type": "code",
   "execution_count": 216,
   "metadata": {},
   "outputs": [
    {
     "data": {
      "image/png": "[encoded data removed]",
      "text/plain": [
       "<Figure size 1000x600 with 1 Axes>"
      ]
     },
     "metadata": {},
     "output_type": "display_data"
    }
   ],
   "source": [
    "# Prepare the data for visualization\n",
    "platforms, counts = zip(*sorted_popularity_counts.items())\n",
    "\n",
    "# Plotting\n",
    "plt.figure(figsize=(10, 6))\n",
    "sns.barplot(x=platforms, y=counts, palette='bright', hue=platforms, legend=False)\n",
    "plt.title('Number of Critically Acclaimed Movies by Streaming Service')\n",
    "plt.ylabel('Number of Movies')\n",
    "plt.xlabel('Streaming Service')\n",
    "plt.xticks(rotation=45)\n",
    "plt.tight_layout()\n",
    "plt.show()"
   ]
  },
  {
   "cell_type": "markdown",
   "metadata": {},
   "source": [
    "`Netflix` has more popular movies and shows by far! It's no coincidence `Netflix` has been a household name for years."
   ]
  },
  {
   "cell_type": "code",
   "execution_count": 159,
   "metadata": {},
   "outputs": [
    {
     "name": "stdout",
     "output_type": "stream",
     "text": [
      "{'Netflix': 0.1666, 'Disney': 0.3498, 'Amazon': 0.599, 'Paramount': 0.6311, 'Max': 0.8416, 'Apple': 4.995}\n"
     ]
    }
   ],
   "source": [
    "# Calculate dollars per critically acclaimed movie\n",
    "dollars_per_popularity = {\n",
    "    platform: (np.round(prices[platform] / popularity_counts[platform], 4)) for platform in prices.keys() if popularity_counts[platform] \n",
    "}\n",
    "\n",
    "# Sort dictionary by values in ascending order\n",
    "sorted_dict = dict(sorted(dollars_per_popularity.items(), key=lambda item: item[1]))\n",
    "print(sorted_dict)\n"
   ]
  },
  {
   "cell_type": "code",
   "execution_count": 218,
   "metadata": {},
   "outputs": [
    {
     "data": {
      "image/png": "[encoded data removed]",
      "text/plain": [
       "<Figure size 1000x600 with 1 Axes>"
      ]
     },
     "metadata": {},
     "output_type": "display_data"
    }
   ],
   "source": [
    "# Prepare the data for visualization\n",
    "platforms, price = zip(*sorted_dict.items())\n",
    "\n",
    "# Plotting\n",
    "plt.figure(figsize=(10, 6))\n",
    "sns.barplot(x=platforms, y=price, palette='bright', hue=platforms, legend=False)\n",
    "plt.title('$ per Critically Acclaimed Movies by Streaming Service')\n",
    "plt.ylabel('$')\n",
    "plt.xlabel('Streaming Service')\n",
    "plt.xticks(rotation=45)\n",
    "plt.tight_layout()\n",
    "plt.show()"
   ]
  },
  {
   "cell_type": "markdown",
   "metadata": {},
   "source": [
    "If you have FOMO and love a deal, then `Netflix` is your best choice for a streaming platform at **$0.17/movie**!"
   ]
  },
  {
   "cell_type": "markdown",
   "metadata": {},
   "source": [
    "#### Kid Friendly"
   ]
  },
  {
   "cell_type": "markdown",
   "metadata": {},
   "source": [
    "**Hypothesis**: Which streaming platform has more kid friendly movies/shows?\n",
    "  - **Prediction**: *Disney+*\n",
    "\n",
    "We'll count all the `age_rating = [G, PG]` values and then plot them for each platform."
   ]
  },
  {
   "cell_type": "code",
   "execution_count": 161,
   "metadata": {},
   "outputs": [],
   "source": [
    "# Define kid-friendly age certifications\n",
    "kid_friendly_ratings = ['G', 'PG']\n",
    "\n",
    "# Filter the DataFrame for kid-friendly movies\n",
    "kid_friendly_df = merged_df[merged_df['age_certification'].isin(kid_friendly_ratings)]\n",
    "\n",
    "# Count the number of kid-friendly movies on each platform\n",
    "kid_friendly_counts = {\n",
    "    'Amazon': kid_friendly_df['on_amazon'].sum(),\n",
    "    'Apple': kid_friendly_df['on_apple'].sum(),\n",
    "    'Disney': kid_friendly_df['on_disney'].sum(),\n",
    "    'Max': kid_friendly_df['on_hbo'].sum(),\n",
    "    'Netflix': kid_friendly_df['on_netflix'].sum(),\n",
    "    'Paramount': kid_friendly_df['on_paramount'].sum(),\n",
    "}\n",
    "\n",
    "# Sort the kid-friendly counts dictionary by values and reverse to get from most to least\n",
    "sorted_kid_friendly_counts = dict(sorted(kid_friendly_counts.items(), key=lambda item: item[1], reverse=True))"
   ]
  },
  {
   "cell_type": "code",
   "execution_count": 162,
   "metadata": {},
   "outputs": [
    {
     "data": {
      "image/png": "[encoded data removed]",
      "text/plain": [
       "<Figure size 1000x600 with 1 Axes>"
      ]
     },
     "metadata": {},
     "output_type": "display_data"
    }
   ],
   "source": [
    "# Prepare the data for visualization\n",
    "platforms, counts = zip(*sorted_kid_friendly_counts.items())\n",
    "\n",
    "# Plotting with a color palette\n",
    "plt.figure(figsize=(10, 6))\n",
    "sns.barplot(x=platforms, y=counts, palette='pastel', hue=platforms, legend=False)\n",
    "plt.title('Number of Kid-Friendly Movies by Streaming Service')\n",
    "plt.ylabel('Number of Movies')\n",
    "plt.xlabel('Streaming Service')\n",
    "plt.xticks(rotation=45)\n",
    "plt.tight_layout()\n",
    "plt.show()"
   ]
  },
  {
   "cell_type": "code",
   "execution_count": 163,
   "metadata": {},
   "outputs": [
    {
     "name": "stdout",
     "output_type": "stream",
     "text": [
      "{'Amazon': 0.0046, 'Disney': 0.0137, 'Paramount': 0.015, 'Max': 0.0273, 'Netflix': 0.0289, 'Apple': 0.4343}\n"
     ]
    }
   ],
   "source": [
    "# Calculate dollars per kid-friendly movie\n",
    "dollars_per_kid = {\n",
    "    platform: (np.round(prices[platform] / kid_friendly_counts[platform], 4)) for platform in prices.keys() if kid_friendly_counts[platform] \n",
    "}\n",
    "\n",
    "# Sort dictionary by values in ascending order\n",
    "sorted_dict = dict(sorted(dollars_per_kid.items(), key=lambda item: item[1]))\n",
    "print(sorted_dict)"
   ]
  },
  {
   "cell_type": "code",
   "execution_count": 220,
   "metadata": {},
   "outputs": [
    {
     "data": {
      "image/png": "[encoded data removed]",
      "text/plain": [
       "<Figure size 1000x600 with 1 Axes>"
      ]
     },
     "metadata": {},
     "output_type": "display_data"
    }
   ],
   "source": [
    "# Prepare the data for visualization\n",
    "platforms, price = zip(*sorted_dict.items())\n",
    "\n",
    "# Plotting\n",
    "plt.figure(figsize=(10, 6))\n",
    "sns.barplot(x=platforms, y=price, palette='pastel', hue=platforms, legend=False)\n",
    "plt.title('Cost per kid-friendly Movies by Streaming Service')\n",
    "plt.ylabel('$')\n",
    "plt.xlabel('Streaming Service')\n",
    "plt.xticks(rotation=45)\n",
    "plt.tight_layout()\n",
    "plt.show()"
   ]
  },
  {
   "cell_type": "markdown",
   "metadata": {},
   "source": [
    "If you are a parent or gaurdian and prioritze kids movies, then **Amazon** and **Disney** are the are the best values, at **$0.0141/movie** and **$0.0183/movie** respectfully."
   ]
  },
  {
   "cell_type": "markdown",
   "metadata": {},
   "source": [
    "#### Diversity"
   ]
  },
  {
   "cell_type": "markdown",
   "metadata": {},
   "source": [
    "- **Hypothesis**: Which streaming platform has more diversity?\n",
    "  - **Prediction**: *Amazon*\n",
    "\n",
    "We will define diversity as the proportions of `genre` and `age_ranking` values for a platform. We'll weigh the contributions to diversity as **70%** `genre` and **30%** `age_ranking`. \n",
    "\n",
    "With this in mind, we will define a function using the `Shannon Diversity Index`, which is popular diversity index defined as the measure of the proportional abundances of types."
   ]
  },
  {
   "cell_type": "code",
   "execution_count": 165,
   "metadata": {},
   "outputs": [],
   "source": [
    "def shannon_diversity_index(counts: list) -> float:\n",
    "    \"\"\"Calculate the Shannon Diversity Index for a list of counts.\"\"\"\n",
    "    total = sum(counts)\n",
    "    proportions = [count / total for count in counts]\n",
    "    return -sum(p * np.log(p) for p in proportions if p > 0)"
   ]
  },
  {
   "cell_type": "markdown",
   "metadata": {},
   "source": [
    "Now, we can calculate the shannon index for each paltform with respect to `genre` and `age_rating`. "
   ]
  },
  {
   "cell_type": "code",
   "execution_count": 166,
   "metadata": {},
   "outputs": [],
   "source": [
    "# We'll store the results in a dictionary\n",
    "diversity_scores = {}\n",
    "\n",
    "streaming_services = ['on_amazon', 'on_apple', 'on_disney', 'on_hbo', 'on_netflix', 'on_paramount']\n",
    "\n",
    "# Calculate the Shannon Diversity Index for genres and age ratings for each streaming service\n",
    "for service in streaming_services:\n",
    "    service_data = merged_df[merged_df[service] == 1]\n",
    "    \n",
    "    # Flatten the list of genres for each movie into a single list and then get the counts\n",
    "    genre_counts = service_data[unique_genres].sum()\n",
    "    genre_sdi = shannon_diversity_index(genre_counts)\n",
    "    \n",
    "    # Get the counts of age certifications and calculate the SDI\n",
    "    age_rating_counts = service_data['age_certification'].value_counts()\n",
    "    age_rating_sdi = shannon_diversity_index(age_rating_counts)\n",
    "    \n",
    "    # Combine the SDI scores for an overall diversity score\n",
    "    overall_sdi = (.7*genre_sdi + .3*age_rating_sdi)\n",
    "    diversity_scores[service] = {\n",
    "        'Genre Diversity': genre_sdi,\n",
    "        'Age Rating Diversity': age_rating_sdi,\n",
    "        'Overall Diversity': overall_sdi\n",
    "    }"
   ]
  },
  {
   "cell_type": "markdown",
   "metadata": {},
   "source": [
    "Let's plot these indexes:"
   ]
  },
  {
   "cell_type": "code",
   "execution_count": 167,
   "metadata": {},
   "outputs": [
    {
     "data": {
      "image/png": "[encoded data removed]",
      "text/plain": [
       "<Figure size 1400x700 with 3 Axes>"
      ]
     },
     "metadata": {},
     "output_type": "display_data"
    }
   ],
   "source": [
    "# Convert the dictionary to a DataFrame for easy plotting\n",
    "diversity_df = pd.DataFrame(diversity_scores).T.sort_values(by='Overall Diversity', ascending=False)\n",
    "\n",
    "# Plotting\n",
    "plt.figure(figsize=(14, 7))\n",
    "\n",
    "# Genre Diversity\n",
    "plt.subplot(1, 3, 1)\n",
    "sns.barplot(x=diversity_df.index, y='Genre Diversity', data=diversity_df, palette='coolwarm', hue=diversity_df.index, legend=False)\n",
    "plt.title('Genre Diversity by Streaming Service')\n",
    "plt.xticks(rotation=45)\n",
    "\n",
    "# Age Rating Diversity\n",
    "plt.subplot(1, 3, 2)\n",
    "sns.barplot(x=diversity_df.index, y='Age Rating Diversity', data=diversity_df, palette='coolwarm', hue=diversity_df.index, legend=False)\n",
    "plt.title('Age Rating Diversity by Streaming Service')\n",
    "plt.xticks(rotation=45)\n",
    "\n",
    "# Overall Diversity\n",
    "plt.subplot(1, 3, 3)\n",
    "sns.barplot(x=diversity_df.index, y='Overall Diversity', data=diversity_df, palette='coolwarm', hue=diversity_df.index, legend=False)\n",
    "plt.title('Overall Diversity by Streaming Service')\n",
    "plt.xticks(rotation=45)\n",
    "\n",
    "plt.tight_layout()\n",
    "plt.show()\n"
   ]
  },
  {
   "cell_type": "markdown",
   "metadata": {},
   "source": [
    "`Paramount` has the highest `genre` diversity and the 2nd highest `age_rating` diversity. This solidifies it as the most diverse streaming service, by a very slight margin.\n",
    "\n",
    "The overall diversity metrics are so closely distributed, I doubt anyone can make any meaningful decisions about which platform to choose based on this metric.\n",
    "\n",
    "The good news is: They all have great diversity! (which makes sense from a marketing perspective.)"
   ]
  },
  {
   "cell_type": "markdown",
   "metadata": {},
   "source": [
    "### Model"
   ]
  },
  {
   "cell_type": "markdown",
   "metadata": {},
   "source": [
    "#### Feature Engineering"
   ]
  },
  {
   "cell_type": "markdown",
   "metadata": {},
   "source": [
    "To start, we'll need to encode our categorical data with numerical labels, normalize our numerical data, and make them arrays so they can be fed into our `KNN` model."
   ]
  },
  {
   "cell_type": "code",
   "execution_count": 168,
   "metadata": {},
   "outputs": [],
   "source": [
    "# Add streaming platform data to the feature matrix\n",
    "streaming_columns = ['on_amazon', 'on_apple', 'on_disney', 'on_hbo', 'on_netflix', 'on_paramount']\n",
    "streaming_data = merged_df[streaming_columns].values\n",
    "\n",
    "# Encoder for 'type' and 'age_certification'\n",
    "onehot_encoder = OneHotEncoder()\n",
    "type_encoded = onehot_encoder.fit_transform(merged_df[['type']]).toarray()\n",
    "age_certification_encoded = onehot_encoder.fit_transform(merged_df[['age_certification']]).toarray()\n",
    "\n",
    "# Normalize the imdb_score/tmdb_popularity to have the same scale as genres_encoded\n",
    "imdb_scores = merged_df['imdb_score'] / merged_df['imdb_score'].max()\n",
    "tmdb_popularity_scaled = merged_df['tmdb_popularity'] / merged_df['tmdb_popularity'].max()\n",
    "imdb_scores_reshaped = imdb_scores.values.reshape(-1, 1)\n",
    "tmdb_popularity_reshaped = tmdb_popularity_scaled.values.reshape(-1, 1)"
   ]
  },
  {
   "cell_type": "markdown",
   "metadata": {},
   "source": [
    "##### K-means"
   ]
  },
  {
   "cell_type": "markdown",
   "metadata": {},
   "source": [
    "We use `Kmeans` to feature engineer in hopes of capturing underlying patterns or structures within `genre`. For example:\n",
    "- Create clusters on similar `genre` values. \n",
    "- Reduce our high-dimensional dataframe of genre binaries into a smaller set of features representing cluster relationships.\n",
    "- Reduce noise.\n",
    "- Increase the similarities using these clusters to, hopefully, improve the similarity metric of our recommendations from the `KNN` model.\n",
    "\n",
    "We will try to optimize the `k` parameter by creating an **elbow plot** of the **inertias** at each `k`. **Inertia** measures the intraconnectedness of the clusters."
   ]
  },
  {
   "cell_type": "code",
   "execution_count": 169,
   "metadata": {},
   "outputs": [],
   "source": [
    "# Range of k values to try\n",
    "k_values = range(5, 200, 5)\n",
    "\n",
    "# List to store each k value's inertia\n",
    "inertias = []\n",
    "\n",
    "# train model for each k\n",
    "for k in k_values:\n",
    "    kmeans = KMeans(n_clusters=k, random_state=42)\n",
    "    kmeans.fit(merged_df[unique_genres])\n",
    "    inertias.append(kmeans.inertia_)"
   ]
  },
  {
   "cell_type": "code",
   "execution_count": 170,
   "metadata": {},
   "outputs": [
    {
     "data": {
      "image/png": "[encoded data removed]",
      "text/plain": [
       "<Figure size 1000x600 with 1 Axes>"
      ]
     },
     "metadata": {},
     "output_type": "display_data"
    }
   ],
   "source": [
    "plt.figure(figsize=(10, 6))\n",
    "plt.plot(k_values, inertias, 'bo-')\n",
    "plt.xlabel('Number of Clusters, k')\n",
    "plt.ylabel('Inertia')\n",
    "plt.title('Elbow Plot for KMeans Clustering')\n",
    "plt.xticks(k_values)\n",
    "plt.grid(True)\n",
    "plt.show()"
   ]
  },
  {
   "cell_type": "markdown",
   "metadata": {},
   "source": [
    "> The elbow plot resembles $f(x) = 1/x$​ without a distinct elbow. This suggests that the benefits of adding more clusters decrease slowly as the number of clusters increases. This situation can make it challenging to choose the optimal number of clusters based solely on the elbow plot.\n",
    "\n",
    "Since there is no visible elbow, I chose a point that looked like there were obvious diminished returns for any `k` above it, `k = 55`."
   ]
  },
  {
   "cell_type": "code",
   "execution_count": 223,
   "metadata": {},
   "outputs": [],
   "source": [
    "n_clusters = 55 # Optimal k\n",
    "kmeans = KMeans(n_clusters=n_clusters)\n",
    "genres_cluster_labels = kmeans.fit_predict(merged_df[unique_genres]).reshape(-1, 1)"
   ]
  },
  {
   "cell_type": "markdown",
   "metadata": {},
   "source": [
    "##### PCA"
   ]
  },
  {
   "cell_type": "markdown",
   "metadata": {},
   "source": [
    "We use `PCA` for feature engineering so that we emphasize variation and bring out strong patterns in a dataset. It's also often used to:\n",
    "- Reduce dimensionality of our data\n",
    "- Capture the variance of the data that might correspond to latent features."
   ]
  },
  {
   "cell_type": "code",
   "execution_count": 172,
   "metadata": {},
   "outputs": [
    {
     "name": "stdout",
     "output_type": "stream",
     "text": [
      "[0.17399535 0.14656639 0.12128527 0.08106872 0.06459037 0.05988484\n",
      " 0.05168595 0.04447658 0.03653068 0.03474959 0.02961799 0.02788133\n",
      " 0.02650059 0.02423983 0.02290889 0.0145069 ]\n"
     ]
    }
   ],
   "source": [
    "pca = PCA(n_components=0.95)  # retain 95% of variance\n",
    "genres_pca = pca.fit_transform(merged_df[unique_genres])\n",
    "print(pca.explained_variance_ratio_)"
   ]
  },
  {
   "cell_type": "markdown",
   "metadata": {},
   "source": [
    "The first few components capture a significant portion of the variance, which suggests that the genre data is quite spread out. The gradual decline in the variance indicates no components dominate.\n",
    "\n",
    "Since no individual component explains a dominant share of the variance, I think it's good to retain most of the components."
   ]
  },
  {
   "cell_type": "markdown",
   "metadata": {},
   "source": [
    "#### Training"
   ]
  },
  {
   "cell_type": "markdown",
   "metadata": {},
   "source": [
    "For training the `KNN` model, I spent many hours adjusting the weights and cycled through many different combinations of each feature."
   ]
  },
  {
   "cell_type": "code",
   "execution_count": 173,
   "metadata": {},
   "outputs": [
    {
     "data": {
      "text/html": [
       "<style>#sk-container-id-4 {\n",
       "  /* Definition of color scheme common for light and dark mode */\n",
       "  --sklearn-color-text: black;\n",
       "  --sklearn-color-line: gray;\n",
       "  /* Definition of color scheme for unfitted estimators */\n",
       "  --sklearn-color-unfitted-level-0: #fff5e6;\n",
       "  --sklearn-color-unfitted-level-1: #f6e4d2;\n",
       "  --sklearn-color-unfitted-level-2: #ffe0b3;\n",
       "  --sklearn-color-unfitted-level-3: chocolate;\n",
       "  /* Definition of color scheme for fitted estimators */\n",
       "  --sklearn-color-fitted-level-0: #f0f8ff;\n",
       "  --sklearn-color-fitted-level-1: #d4ebff;\n",
       "  --sklearn-color-fitted-level-2: #b3dbfd;\n",
       "  --sklearn-color-fitted-level-3: cornflowerblue;\n",
       "\n",
       "  /* Specific color for light theme */\n",
       "  --sklearn-color-text-on-default-background: var(--sg-text-color, var(--theme-code-foreground, var(--jp-content-font-color1, black)));\n",
       "  --sklearn-color-background: var(--sg-background-color, var(--theme-background, var(--jp-layout-color0, white)));\n",
       "  --sklearn-color-border-box: var(--sg-text-color, var(--theme-code-foreground, var(--jp-content-font-color1, black)));\n",
       "  --sklearn-color-icon: #696969;\n",
       "\n",
       "  @media (prefers-color-scheme: dark) {\n",
       "    /* Redefinition of color scheme for dark theme */\n",
       "    --sklearn-color-text-on-default-background: var(--sg-text-color, var(--theme-code-foreground, var(--jp-content-font-color1, white)));\n",
       "    --sklearn-color-background: var(--sg-background-color, var(--theme-background, var(--jp-layout-color0, #111)));\n",
       "    --sklearn-color-border-box: var(--sg-text-color, var(--theme-code-foreground, var(--jp-content-font-color1, white)));\n",
       "    --sklearn-color-icon: #878787;\n",
       "  }\n",
       "}\n",
       "\n",
       "#sk-container-id-4 {\n",
       "  color: var(--sklearn-color-text);\n",
       "}\n",
       "\n",
       "#sk-container-id-4 pre {\n",
       "  padding: 0;\n",
       "}\n",
       "\n",
       "#sk-container-id-4 input.sk-hidden--visually {\n",
       "  border: 0;\n",
       "  clip: rect(1px 1px 1px 1px);\n",
       "  clip: rect(1px, 1px, 1px, 1px);\n",
       "  height: 1px;\n",
       "  margin: -1px;\n",
       "  overflow: hidden;\n",
       "  padding: 0;\n",
       "  position: absolute;\n",
       "  width: 1px;\n",
       "}\n",
       "\n",
       "#sk-container-id-4 div.sk-dashed-wrapped {\n",
       "  border: 1px dashed var(--sklearn-color-line);\n",
       "  margin: 0 0.4em 0.5em 0.4em;\n",
       "  box-sizing: border-box;\n",
       "  padding-bottom: 0.4em;\n",
       "  background-color: var(--sklearn-color-background);\n",
       "}\n",
       "\n",
       "#sk-container-id-4 div.sk-container {\n",
       "  /* jupyter's `normalize.less` sets `[hidden] { display: none; }`\n",
       "     but bootstrap.min.css set `[hidden] { display: none !important; }`\n",
       "     so we also need the `!important` here to be able to override the\n",
       "     default hidden behavior on the sphinx rendered scikit-learn.org.\n",
       "     See: https://github.com/scikit-learn/scikit-learn/issues/21755 */\n",
       "  display: inline-block !important;\n",
       "  position: relative;\n",
       "}\n",
       "\n",
       "#sk-container-id-4 div.sk-text-repr-fallback {\n",
       "  display: none;\n",
       "}\n",
       "\n",
       "div.sk-parallel-item,\n",
       "div.sk-serial,\n",
       "div.sk-item {\n",
       "  /* draw centered vertical line to link estimators */\n",
       "  background-image: linear-gradient(var(--sklearn-color-text-on-default-background), var(--sklearn-color-text-on-default-background));\n",
       "  background-size: 2px 100%;\n",
       "  background-repeat: no-repeat;\n",
       "  background-position: center center;\n",
       "}\n",
       "\n",
       "/* Parallel-specific style estimator block */\n",
       "\n",
       "#sk-container-id-4 div.sk-parallel-item::after {\n",
       "  content: \"\";\n",
       "  width: 100%;\n",
       "  border-bottom: 2px solid var(--sklearn-color-text-on-default-background);\n",
       "  flex-grow: 1;\n",
       "}\n",
       "\n",
       "#sk-container-id-4 div.sk-parallel {\n",
       "  display: flex;\n",
       "  align-items: stretch;\n",
       "  justify-content: center;\n",
       "  background-color: var(--sklearn-color-background);\n",
       "  position: relative;\n",
       "}\n",
       "\n",
       "#sk-container-id-4 div.sk-parallel-item {\n",
       "  display: flex;\n",
       "  flex-direction: column;\n",
       "}\n",
       "\n",
       "#sk-container-id-4 div.sk-parallel-item:first-child::after {\n",
       "  align-self: flex-end;\n",
       "  width: 50%;\n",
       "}\n",
       "\n",
       "#sk-container-id-4 div.sk-parallel-item:last-child::after {\n",
       "  align-self: flex-start;\n",
       "  width: 50%;\n",
       "}\n",
       "\n",
       "#sk-container-id-4 div.sk-parallel-item:only-child::after {\n",
       "  width: 0;\n",
       "}\n",
       "\n",
       "/* Serial-specific style estimator block */\n",
       "\n",
       "#sk-container-id-4 div.sk-serial {\n",
       "  display: flex;\n",
       "  flex-direction: column;\n",
       "  align-items: center;\n",
       "  background-color: var(--sklearn-color-background);\n",
       "  padding-right: 1em;\n",
       "  padding-left: 1em;\n",
       "}\n",
       "\n",
       "\n",
       "/* Toggleable style: style used for estimator/Pipeline/ColumnTransformer box that is\n",
       "clickable and can be expanded/collapsed.\n",
       "- Pipeline and ColumnTransformer use this feature and define the default style\n",
       "- Estimators will overwrite some part of the style using the `sk-estimator` class\n",
       "*/\n",
       "\n",
       "/* Pipeline and ColumnTransformer style (default) */\n",
       "\n",
       "#sk-container-id-4 div.sk-toggleable {\n",
       "  /* Default theme specific background. It is overwritten whether we have a\n",
       "  specific estimator or a Pipeline/ColumnTransformer */\n",
       "  background-color: var(--sklearn-color-background);\n",
       "}\n",
       "\n",
       "/* Toggleable label */\n",
       "#sk-container-id-4 label.sk-toggleable__label {\n",
       "  cursor: pointer;\n",
       "  display: block;\n",
       "  width: 100%;\n",
       "  margin-bottom: 0;\n",
       "  padding: 0.5em;\n",
       "  box-sizing: border-box;\n",
       "  text-align: center;\n",
       "}\n",
       "\n",
       "#sk-container-id-4 label.sk-toggleable__label-arrow:before {\n",
       "  /* Arrow on the left of the label */\n",
       "  content: \"▸\";\n",
       "  float: left;\n",
       "  margin-right: 0.25em;\n",
       "  color: var(--sklearn-color-icon);\n",
       "}\n",
       "\n",
       "#sk-container-id-4 label.sk-toggleable__label-arrow:hover:before {\n",
       "  color: var(--sklearn-color-text);\n",
       "}\n",
       "\n",
       "/* Toggleable content - dropdown */\n",
       "\n",
       "#sk-container-id-4 div.sk-toggleable__content {\n",
       "  max-height: 0;\n",
       "  max-width: 0;\n",
       "  overflow: hidden;\n",
       "  text-align: left;\n",
       "  /* unfitted */\n",
       "  background-color: var(--sklearn-color-unfitted-level-0);\n",
       "}\n",
       "\n",
       "#sk-container-id-4 div.sk-toggleable__content.fitted {\n",
       "  /* fitted */\n",
       "  background-color: var(--sklearn-color-fitted-level-0);\n",
       "}\n",
       "\n",
       "#sk-container-id-4 div.sk-toggleable__content pre {\n",
       "  margin: 0.2em;\n",
       "  border-radius: 0.25em;\n",
       "  color: var(--sklearn-color-text);\n",
       "  /* unfitted */\n",
       "  background-color: var(--sklearn-color-unfitted-level-0);\n",
       "}\n",
       "\n",
       "#sk-container-id-4 div.sk-toggleable__content.fitted pre {\n",
       "  /* unfitted */\n",
       "  background-color: var(--sklearn-color-fitted-level-0);\n",
       "}\n",
       "\n",
       "#sk-container-id-4 input.sk-toggleable__control:checked~div.sk-toggleable__content {\n",
       "  /* Expand drop-down */\n",
       "  max-height: 200px;\n",
       "  max-width: 100%;\n",
       "  overflow: auto;\n",
       "}\n",
       "\n",
       "#sk-container-id-4 input.sk-toggleable__control:checked~label.sk-toggleable__label-arrow:before {\n",
       "  content: \"▾\";\n",
       "}\n",
       "\n",
       "/* Pipeline/ColumnTransformer-specific style */\n",
       "\n",
       "#sk-container-id-4 div.sk-label input.sk-toggleable__control:checked~label.sk-toggleable__label {\n",
       "  color: var(--sklearn-color-text);\n",
       "  background-color: var(--sklearn-color-unfitted-level-2);\n",
       "}\n",
       "\n",
       "#sk-container-id-4 div.sk-label.fitted input.sk-toggleable__control:checked~label.sk-toggleable__label {\n",
       "  background-color: var(--sklearn-color-fitted-level-2);\n",
       "}\n",
       "\n",
       "/* Estimator-specific style */\n",
       "\n",
       "/* Colorize estimator box */\n",
       "#sk-container-id-4 div.sk-estimator input.sk-toggleable__control:checked~label.sk-toggleable__label {\n",
       "  /* unfitted */\n",
       "  background-color: var(--sklearn-color-unfitted-level-2);\n",
       "}\n",
       "\n",
       "#sk-container-id-4 div.sk-estimator.fitted input.sk-toggleable__control:checked~label.sk-toggleable__label {\n",
       "  /* fitted */\n",
       "  background-color: var(--sklearn-color-fitted-level-2);\n",
       "}\n",
       "\n",
       "#sk-container-id-4 div.sk-label label.sk-toggleable__label,\n",
       "#sk-container-id-4 div.sk-label label {\n",
       "  /* The background is the default theme color */\n",
       "  color: var(--sklearn-color-text-on-default-background);\n",
       "}\n",
       "\n",
       "/* On hover, darken the color of the background */\n",
       "#sk-container-id-4 div.sk-label:hover label.sk-toggleable__label {\n",
       "  color: var(--sklearn-color-text);\n",
       "  background-color: var(--sklearn-color-unfitted-level-2);\n",
       "}\n",
       "\n",
       "/* Label box, darken color on hover, fitted */\n",
       "#sk-container-id-4 div.sk-label.fitted:hover label.sk-toggleable__label.fitted {\n",
       "  color: var(--sklearn-color-text);\n",
       "  background-color: var(--sklearn-color-fitted-level-2);\n",
       "}\n",
       "\n",
       "/* Estimator label */\n",
       "\n",
       "#sk-container-id-4 div.sk-label label {\n",
       "  font-family: monospace;\n",
       "  font-weight: bold;\n",
       "  display: inline-block;\n",
       "  line-height: 1.2em;\n",
       "}\n",
       "\n",
       "#sk-container-id-4 div.sk-label-container {\n",
       "  text-align: center;\n",
       "}\n",
       "\n",
       "/* Estimator-specific */\n",
       "#sk-container-id-4 div.sk-estimator {\n",
       "  font-family: monospace;\n",
       "  border: 1px dotted var(--sklearn-color-border-box);\n",
       "  border-radius: 0.25em;\n",
       "  box-sizing: border-box;\n",
       "  margin-bottom: 0.5em;\n",
       "  /* unfitted */\n",
       "  background-color: var(--sklearn-color-unfitted-level-0);\n",
       "}\n",
       "\n",
       "#sk-container-id-4 div.sk-estimator.fitted {\n",
       "  /* fitted */\n",
       "  background-color: var(--sklearn-color-fitted-level-0);\n",
       "}\n",
       "\n",
       "/* on hover */\n",
       "#sk-container-id-4 div.sk-estimator:hover {\n",
       "  /* unfitted */\n",
       "  background-color: var(--sklearn-color-unfitted-level-2);\n",
       "}\n",
       "\n",
       "#sk-container-id-4 div.sk-estimator.fitted:hover {\n",
       "  /* fitted */\n",
       "  background-color: var(--sklearn-color-fitted-level-2);\n",
       "}\n",
       "\n",
       "/* Specification for estimator info (e.g. \"i\" and \"?\") */\n",
       "\n",
       "/* Common style for \"i\" and \"?\" */\n",
       "\n",
       ".sk-estimator-doc-link,\n",
       "a:link.sk-estimator-doc-link,\n",
       "a:visited.sk-estimator-doc-link {\n",
       "  float: right;\n",
       "  font-size: smaller;\n",
       "  line-height: 1em;\n",
       "  font-family: monospace;\n",
       "  background-color: var(--sklearn-color-background);\n",
       "  border-radius: 1em;\n",
       "  height: 1em;\n",
       "  width: 1em;\n",
       "  text-decoration: none !important;\n",
       "  margin-left: 1ex;\n",
       "  /* unfitted */\n",
       "  border: var(--sklearn-color-unfitted-level-1) 1pt solid;\n",
       "  color: var(--sklearn-color-unfitted-level-1);\n",
       "}\n",
       "\n",
       ".sk-estimator-doc-link.fitted,\n",
       "a:link.sk-estimator-doc-link.fitted,\n",
       "a:visited.sk-estimator-doc-link.fitted {\n",
       "  /* fitted */\n",
       "  border: var(--sklearn-color-fitted-level-1) 1pt solid;\n",
       "  color: var(--sklearn-color-fitted-level-1);\n",
       "}\n",
       "\n",
       "/* On hover */\n",
       "div.sk-estimator:hover .sk-estimator-doc-link:hover,\n",
       ".sk-estimator-doc-link:hover,\n",
       "div.sk-label-container:hover .sk-estimator-doc-link:hover,\n",
       ".sk-estimator-doc-link:hover {\n",
       "  /* unfitted */\n",
       "  background-color: var(--sklearn-color-unfitted-level-3);\n",
       "  color: var(--sklearn-color-background);\n",
       "  text-decoration: none;\n",
       "}\n",
       "\n",
       "div.sk-estimator.fitted:hover .sk-estimator-doc-link.fitted:hover,\n",
       ".sk-estimator-doc-link.fitted:hover,\n",
       "div.sk-label-container:hover .sk-estimator-doc-link.fitted:hover,\n",
       ".sk-estimator-doc-link.fitted:hover {\n",
       "  /* fitted */\n",
       "  background-color: var(--sklearn-color-fitted-level-3);\n",
       "  color: var(--sklearn-color-background);\n",
       "  text-decoration: none;\n",
       "}\n",
       "\n",
       "/* Span, style for the box shown on hovering the info icon */\n",
       ".sk-estimator-doc-link span {\n",
       "  display: none;\n",
       "  z-index: 9999;\n",
       "  position: relative;\n",
       "  font-weight: normal;\n",
       "  right: .2ex;\n",
       "  padding: .5ex;\n",
       "  margin: .5ex;\n",
       "  width: min-content;\n",
       "  min-width: 20ex;\n",
       "  max-width: 50ex;\n",
       "  color: var(--sklearn-color-text);\n",
       "  box-shadow: 2pt 2pt 4pt #999;\n",
       "  /* unfitted */\n",
       "  background: var(--sklearn-color-unfitted-level-0);\n",
       "  border: .5pt solid var(--sklearn-color-unfitted-level-3);\n",
       "}\n",
       "\n",
       ".sk-estimator-doc-link.fitted span {\n",
       "  /* fitted */\n",
       "  background: var(--sklearn-color-fitted-level-0);\n",
       "  border: var(--sklearn-color-fitted-level-3);\n",
       "}\n",
       "\n",
       ".sk-estimator-doc-link:hover span {\n",
       "  display: block;\n",
       "}\n",
       "\n",
       "/* \"?\"-specific style due to the `<a>` HTML tag */\n",
       "\n",
       "#sk-container-id-4 a.estimator_doc_link {\n",
       "  float: right;\n",
       "  font-size: 1rem;\n",
       "  line-height: 1em;\n",
       "  font-family: monospace;\n",
       "  background-color: var(--sklearn-color-background);\n",
       "  border-radius: 1rem;\n",
       "  height: 1rem;\n",
       "  width: 1rem;\n",
       "  text-decoration: none;\n",
       "  /* unfitted */\n",
       "  color: var(--sklearn-color-unfitted-level-1);\n",
       "  border: var(--sklearn-color-unfitted-level-1) 1pt solid;\n",
       "}\n",
       "\n",
       "#sk-container-id-4 a.estimator_doc_link.fitted {\n",
       "  /* fitted */\n",
       "  border: var(--sklearn-color-fitted-level-1) 1pt solid;\n",
       "  color: var(--sklearn-color-fitted-level-1);\n",
       "}\n",
       "\n",
       "/* On hover */\n",
       "#sk-container-id-4 a.estimator_doc_link:hover {\n",
       "  /* unfitted */\n",
       "  background-color: var(--sklearn-color-unfitted-level-3);\n",
       "  color: var(--sklearn-color-background);\n",
       "  text-decoration: none;\n",
       "}\n",
       "\n",
       "#sk-container-id-4 a.estimator_doc_link.fitted:hover {\n",
       "  /* fitted */\n",
       "  background-color: var(--sklearn-color-fitted-level-3);\n",
       "}\n",
       "</style><div id=\"sk-container-id-4\" class=\"sk-top-container\"><div class=\"sk-text-repr-fallback\"><pre>NearestNeighbors(metric=&#x27;euclidean&#x27;, n_neighbors=30)</pre><b>In a Jupyter environment, please rerun this cell to show the HTML representation or trust the notebook. <br />On GitHub, the HTML representation is unable to render, please try loading this page with nbviewer.org.</b></div><div class=\"sk-container\" hidden><div class=\"sk-item\"><div class=\"sk-estimator fitted sk-toggleable\"><input class=\"sk-toggleable__control sk-hidden--visually\" id=\"sk-estimator-id-4\" type=\"checkbox\" checked><label for=\"sk-estimator-id-4\" class=\"sk-toggleable__label fitted sk-toggleable__label-arrow fitted\">&nbsp;&nbsp;NearestNeighbors<a class=\"sk-estimator-doc-link fitted\" rel=\"noreferrer\" target=\"_blank\" href=\"https://scikit-learn.org/1.4/modules/generated/sklearn.neighbors.NearestNeighbors.html\">?<span>Documentation for NearestNeighbors</span></a><span class=\"sk-estimator-doc-link fitted\">i<span>Fitted</span></span></label><div class=\"sk-toggleable__content fitted\"><pre>NearestNeighbors(metric=&#x27;euclidean&#x27;, n_neighbors=30)</pre></div> </div></div></div></div>"
      ],
      "text/plain": [
       "NearestNeighbors(metric='euclidean', n_neighbors=30)"
      ]
     },
     "execution_count": 173,
     "metadata": {},
     "output_type": "execute_result"
    }
   ],
   "source": [
    "# Feature training weights\n",
    "genre_weight = 3\n",
    "imdb_weight = 2\n",
    "type_weight = 1\n",
    "age_weight = 2\n",
    "tmdb_weight = 1\n",
    "pca_weight = 1\n",
    "cluster_weight = 2\n",
    "\n",
    "\n",
    "# Combine all features into one feature matrix\n",
    "X = np.hstack((\n",
    "    merged_df[unique_genres] * genre_weight, \n",
    "    imdb_scores_reshaped * imdb_weight, \n",
    "    type_encoded * type_weight,\n",
    "    age_certification_encoded * age_weight,\n",
    "    #genres_pca * pca_weight,\n",
    "    genres_cluster_labels * cluster_weight,\n",
    "    tmdb_popularity_reshaped * tmdb_weight,\n",
    "))\n",
    "\n",
    "# Use NearestNeighbors for finding the nearest movies\n",
    "knn = NearestNeighbors(n_neighbors=30, algorithm='auto', metric='euclidean')\n",
    "knn.fit(X)"
   ]
  },
  {
   "cell_type": "markdown",
   "metadata": {},
   "source": [
    "To check how our `KNN` model did, we can look at the nearest neighbors for an arbitrary index, let's say index 0. We will print out indexes in order of closest to farthest in the neighborhood created by the model."
   ]
  },
  {
   "cell_type": "code",
   "execution_count": 222,
   "metadata": {},
   "outputs": [
    {
     "name": "stdout",
     "output_type": "stream",
     "text": [
      "Nearest Neighbors for the first item:\n",
      "Index: 0, Distance: 0.0\n",
      "Index: 5715, Distance: 0.020888477395967744\n",
      "Index: 7499, Distance: 0.0608503162733239\n",
      "Index: 11327, Distance: 0.4040688775923941\n",
      "Index: 9235, Distance: 0.42425551721771426\n",
      "Index: 12026, Distance: 2.8289845143344197\n",
      "Index: 12670, Distance: 2.8330407512672258\n",
      "Index: 3047, Distance: 2.8335916653695223\n",
      "Index: 12081, Distance: 2.8356351408719878\n",
      "Index: 4661, Distance: 2.846844803262946\n",
      "Index: 2541, Distance: 2.84701830505666\n",
      "Index: 13159, Distance: 2.8492018803114694\n",
      "Index: 2488, Distance: 2.8492030085199733\n",
      "Index: 6004, Distance: 2.849203364190994\n",
      "Index: 10313, Distance: 2.849214627806801\n",
      "Index: 11719, Distance: 2.8517080459894197\n",
      "Index: 4997, Distance: 2.8517112572663414\n",
      "Index: 15826, Distance: 2.8571399852891957\n",
      "Index: 2534, Distance: 2.857140018893967\n",
      "Index: 10035, Distance: 2.8671066759829564\n",
      "Index: 10189, Distance: 2.8731651868487216\n",
      "Index: 2640, Distance: 2.9059432718823333\n",
      "Index: 7726, Distance: 2.9106412119157103\n",
      "Index: 6704, Distance: 2.9154741014189636\n",
      "Index: 10202, Distance: 2.996658175021432\n",
      "Index: 4884, Distance: 3.0043553074956537\n",
      "Index: 16145, Distance: 3.021958498103584\n",
      "Index: 3452, Distance: 3.027089753957303\n",
      "Index: 9360, Distance: 3.1017410462047366\n",
      "Index: 4800, Distance: 3.1176852817211413\n"
     ]
    }
   ],
   "source": [
    "# Check neighbors for a specific item, index 0\n",
    "distances, indices = knn.kneighbors([X[0]][:10])\n",
    "\n",
    "# Display the nearest neighbors for the first item\n",
    "print(\"Nearest Neighbors for the first item:\")\n",
    "for idx, dist in zip(indices[0], distances[0]):\n",
    "    print(f\"Index: {idx}, Distance: {dist}\")"
   ]
  },
  {
   "cell_type": "markdown",
   "metadata": {},
   "source": [
    "That is difficult to understand, so lets print the features for the indexes the `KNN` model calculated to be closest to `Index 0`."
   ]
  },
  {
   "cell_type": "code",
   "execution_count": 179,
   "metadata": {},
   "outputs": [
    {
     "name": "stdout",
     "output_type": "stream",
     "text": [
      "title                             Star Wars\n",
      "genres             [scifi, action, fantasy]\n",
      "imdb_score                              8.6\n",
      "tmdb_popularity                      77.321\n",
      "Name: 0, dtype: object \n",
      "\n",
      "title               The Empire Strikes Back\n",
      "genres             [scifi, action, fantasy]\n",
      "imdb_score                              8.7\n",
      "tmdb_popularity                      27.802\n",
      "Name: 5716, dtype: object \n",
      "\n",
      "title                    Return of the Jedi\n",
      "genres             [action, scifi, fantasy]\n",
      "imdb_score                              8.3\n",
      "tmdb_popularity                      26.537\n",
      "Name: 7500, dtype: object \n",
      "\n",
      "title              Star Wars: Episode II - Attack of the Clones\n",
      "genres                                 [scifi, fantasy, action]\n",
      "imdb_score                                                  6.6\n",
      "tmdb_popularity                                          32.596\n",
      "Name: 11328, dtype: object \n",
      "\n",
      "title              Star Wars: Episode I - The Phantom Menace\n",
      "genres                              [scifi, action, fantasy]\n",
      "imdb_score                                               6.5\n",
      "tmdb_popularity                                       46.244\n",
      "Name: 9236, dtype: object \n",
      "\n",
      "title                Avengers: Infinity War\n",
      "genres             [scifi, action, fantasy]\n",
      "imdb_score                              8.4\n",
      "tmdb_popularity                     440.938\n",
      "Name: 12027, dtype: object \n",
      "\n",
      "title              Star Wars: The Force Awakens\n",
      "genres                 [scifi, fantasy, action]\n",
      "imdb_score                                  7.8\n",
      "tmdb_popularity                          80.478\n",
      "Name: 12671, dtype: object \n",
      "\n"
     ]
    }
   ],
   "source": [
    "# Print details of the nearest neighbors\n",
    "for i in indices[0][:7]:\n",
    "    print(merged_df.iloc[i][['title', 'genres', 'imdb_score', 'tmdb_popularity']], \"\\n\")\n"
   ]
  },
  {
   "cell_type": "markdown",
   "metadata": {},
   "source": [
    "**This looks like the model did an amazing job! We... did an even better job, pat your back!**\n",
    "\n",
    "But I would love to go a littler further and make a little app out of this!\n",
    "To do this, I'll write a function that makes a recommendation for a specific move title."
   ]
  },
  {
   "cell_type": "markdown",
   "metadata": {},
   "source": [
    "#### Recommendations"
   ]
  },
  {
   "cell_type": "markdown",
   "metadata": {},
   "source": [
    "After many, many hours trying to make the ***perfect*** recommendation function, I noticed that for some (maybe most) movies the genres of the recommended movies were completely off.\n",
    "\n",
    "This makes sense though, I didn't think our dataset had enough nuanced data to create a perfect recommendation system for every movie. Here were a couple bug's I found:\n",
    "- **\"2001: A Space Odyssey\"**: Only returned `comedy` specials.\n",
    "- **\"Prometheus\"**: Only returned `western` movies.\n",
    "- **\"The Handmaiden\"**: Only returned `musical`, `documentary` movies.\n",
    "\n",
    "To make a better recommendation system, I filtered the recommended movies by the intersection of `genre` values. Working on the assumption that similar movies should have similar genres. This would return the closest movies with similar genres, thus filtering out the mismatched movies "
   ]
  },
  {
   "cell_type": "markdown",
   "metadata": {},
   "source": [
    "For this movie recommendation function, we will do the following:\n",
    "1. Use `regex` to take an input and generalize the string to a pattern.\n",
    "2. Use this pattern and find all movie titles that contain it.\n",
    "3. Define a minimum `genre` count to have in common with the input movie.\n",
    "4. Set the input movie as index 0, like we did above.\n",
    "5. Filter the closest indexes (movies) with the minimum `genre` count constraint.\n",
    "6. Filter these movies by the streaming platforms they are on. \n",
    "6. Print top 5 recommendations in a readable way."
   ]
  },
  {
   "cell_type": "code",
   "execution_count": 211,
   "metadata": {},
   "outputs": [],
   "source": [
    "def make_recommendation(movie_title, knn_model, data, features, num_neighbors, available_services):\n",
    "    # Save title to print later\n",
    "    print_movie = movie_title\n",
    "    movie_title = movie_title.strip().lower()\n",
    "\n",
    "    # Create regex pattern and find movie\n",
    "    pattern = re.compile(re.escape(movie_title), re.IGNORECASE)\n",
    "    matches = data[data['title'].str.contains(pattern)]\n",
    "\n",
    "    # Check if no movie was found\n",
    "    if matches.empty:\n",
    "        print(f\"No matching movie found for '{movie_title}'. Please check the title and try again.\")\n",
    "        return\n",
    "    \n",
    "    # Set movie to Index 0\n",
    "    index = matches.index[0]\n",
    "    \n",
    "    # Make set with all genres \n",
    "    query_genres = set(matches.at[index, 'genres'])\n",
    "    min_genre_match = len(query_genres) - 1 # Create constraint\n",
    "\n",
    "    distances, indices = knn_model.kneighbors([features[index]], n_neighbors=len(data))\n",
    "    recommendations = []\n",
    "\n",
    "    # Cycle through movie recs per knn model\n",
    "    for idx, dist in zip(indices[0], distances[0]):\n",
    "        if idx == index:\n",
    "            continue  # Skip the input movie itself\n",
    "        \n",
    "        # Save relevant movie rec data\n",
    "        movie_data = data.iloc[idx]\n",
    "        movie_genres = set(movie_data['genres'])\n",
    "        common_genres = query_genres.intersection(movie_genres) # Intersection of genres\n",
    "\n",
    "        # Add all movies that exceed genre constraint AND are on the platforms specified to recommendations list\n",
    "        if len(common_genres) >= min_genre_match:\n",
    "            movie_services = [service for service in available_services if movie_data[service] == 1]\n",
    "            if movie_services:\n",
    "                recommendations.append({\n",
    "                    'title': movie_data['title'],\n",
    "                    'year': movie_data['release_year'],\n",
    "                    'genres': movie_genres,\n",
    "                    'services': ', '.join([s.replace('on_', '').capitalize() for s in movie_services]),\n",
    "                    'distance': dist  # Keep the distance for sorting later\n",
    "                })\n",
    "\n",
    "        # Set maximum distance for movie recs\n",
    "        if len(recommendations) >= num_neighbors * 10:  # Get more than needed to filter by service availability\n",
    "            break\n",
    "    \n",
    "    # Sort by distance, then by the number of matching genres\n",
    "    recommendations.sort(key=lambda x: (x['distance'], -len(x['genres'])))\n",
    "\n",
    "    # Select the top recommendations that are available on the specified streaming services\n",
    "    final_recommendations = [rec for rec in recommendations if rec['services']][:num_neighbors]\n",
    "\n",
    "    # Print recommendations\n",
    "    if final_recommendations:\n",
    "        print(f\"\\n--- Recommendations for '{print_movie}' ---\\n\")\n",
    "        for rec in final_recommendations:\n",
    "            print(f\"Title: {rec['title']} ({rec['year']})\\nGenres: {list(rec['genres'])[:min(3,len(rec['genres']))]}\\nAvailable on: {rec['services']}\\n\")\n",
    "    else:\n",
    "        print(\"Unable to find enough similar movies available on your streaming services with enough genre overlap.\")\n"
   ]
  },
  {
   "cell_type": "markdown",
   "metadata": {},
   "source": [
    "Great! Let's test to see if this works on some of the bugged movies we outlined earlier. Feel free to comment out any streaming services and see what recommendation you receive as a result."
   ]
  },
  {
   "cell_type": "code",
   "execution_count": 212,
   "metadata": {},
   "outputs": [
    {
     "name": "stdout",
     "output_type": "stream",
     "text": [
      "\n",
      "--- Recommendations for 'The Matrix' ---\n",
      "\n",
      "Title: Prometheus (2012)\n",
      "Genres: ['scifi', 'action']\n",
      "Available on: Amazon\n",
      "\n",
      "Title: The Matrix Resurrections (2021)\n",
      "Genres: ['scifi', 'action']\n",
      "Available on: Hbo\n",
      "\n",
      "Title: Occupation: Rainfall (2020)\n",
      "Genres: ['scifi', 'action']\n",
      "Available on: Netflix\n",
      "\n",
      "Title: Skylines (2020)\n",
      "Genres: ['scifi', 'action']\n",
      "Available on: Netflix\n",
      "\n",
      "Title: Gen-Y Cops (2000)\n",
      "Genres: ['scifi', 'action']\n",
      "Available on: Amazon\n",
      "\n",
      "\n",
      "--- Recommendations for '2001: A Space Odyssey' ---\n",
      "\n",
      "Title: Doom Patrol (2019)\n",
      "Genres: ['scifi', 'action', 'comedy']\n",
      "Available on: Hbo\n",
      "\n",
      "Title: The Adam Project (2022)\n",
      "Genres: ['drama', 'action', 'scifi']\n",
      "Available on: Netflix\n",
      "\n",
      "Title: ReBoot: The Guardian Code (2018)\n",
      "Genres: ['drama', 'action', 'scifi']\n",
      "Available on: Netflix\n",
      "\n",
      "Title: Star Trek: Picard (2020)\n",
      "Genres: ['scifi', 'action', 'drama']\n",
      "Available on: Paramount\n",
      "\n",
      "Title: Twice Upon a Time (2019)\n",
      "Genres: ['drama', 'comedy', 'romance']\n",
      "Available on: Netflix\n",
      "\n",
      "\n",
      "--- Recommendations for 'The Handmaiden' ---\n",
      "\n",
      "Title: Quién te cantará (2018)\n",
      "Genres: ['drama', 'thriller', 'european']\n",
      "Available on: Netflix\n",
      "\n",
      "Title: Promised Land (2013)\n",
      "Genres: ['drama', 'documentation', 'thriller']\n",
      "Available on: Hbo\n",
      "\n",
      "Title: Grand Piano (2013)\n",
      "Genres: ['drama', 'thriller', 'european']\n",
      "Available on: Hbo\n",
      "\n",
      "Title: The Guardian Angel (2018)\n",
      "Genres: ['drama', 'documentation', 'thriller']\n",
      "Available on: Amazon\n",
      "\n",
      "Title: Long Lost Son (2006)\n",
      "Genres: ['drama', 'thriller', 'european']\n",
      "Available on: Amazon\n",
      "\n"
     ]
    }
   ],
   "source": [
    "# Test\n",
    "available_services = ['on_amazon', \n",
    "                      'on_apple', \n",
    "                      'on_disney', \n",
    "                      'on_hbo', \n",
    "                      'on_netflix', \n",
    "                      'on_paramount']\n",
    "\n",
    "make_recommendation('The Matrix', knn, merged_df, X, 5, available_services)\n",
    "make_recommendation('2001: A Space Odyssey', knn, merged_df, X, 5, available_services)\n",
    "make_recommendation('The Handmaiden', knn, merged_df, X, 5, available_services)"
   ]
  },
  {
   "cell_type": "markdown",
   "metadata": {},
   "source": [
    "Awesome!! Now let's create a function that loops over this function and asks for inputs from the user to specify the parameters!"
   ]
  },
  {
   "cell_type": "code",
   "execution_count": 225,
   "metadata": {},
   "outputs": [],
   "source": [
    "def user_input_recommendation():\n",
    "    streaming_services = ['on_amazon', 'on_apple', 'on_disney', 'on_hbo', 'on_netflix', 'on_paramount']\n",
    "    \n",
    "    # Prompt user for their streaming services availability\n",
    "    services_input = {}\n",
    "    for service in streaming_services:\n",
    "        user_input = input(f\"Do you have access to {service}? (1 for yes, 0 for no, q to quit): \")\n",
    "        while user_input not in ['0', '1']:\n",
    "            if user_input == 'q':\n",
    "                print(\"Exiting program.\")\n",
    "                return\n",
    "            print(\"Invalid input. Please enter 1 for yes, 0 for no, or q to quit.\")\n",
    "            user_input = input(f\"Do you have access to {service}? (1 for yes, 0 for no, q to quit): \")\n",
    "        services_input[service] = int(user_input)\n",
    "    \n",
    "\n",
    "    # Save available streaming services\n",
    "    available_services = [service for service in streaming_services if services_input[service] == 1]\n",
    "    \n",
    "    # Run program until told not to\n",
    "    while True:\n",
    "        # Save input movie\n",
    "        movie_title = input(\"Enter a movie title (q to quit): \")\n",
    "        if movie_title.lower() == 'q':\n",
    "            print(\"Exiting program.\")\n",
    "            break\n",
    "        \n",
    "        # Normalize movie title input and search for regex match in the DataFrame\n",
    "        movie_title_regex = re.compile(re.escape(movie_title), re.IGNORECASE)\n",
    "        matched_movies = merged_df[merged_df['title'].apply(lambda x: bool(movie_title_regex.search(x)))]\n",
    "\n",
    "        # Check for no match\n",
    "        if matched_movies.empty:\n",
    "            print(f\"No movies found matching '{movie_title}'. Please try a different title.\")\n",
    "\n",
    "        else:\n",
    "            # Display up to the top 5 matches for the user to choose from\n",
    "            print(\"Multiple matches found matching '{movie_title}'. Please select the correct movie (q to quit):\", flush=True)\n",
    "\n",
    "            choices = [\"\"] * 5\n",
    "            corr_choice = False\n",
    "            # Ask for input until correct input given\n",
    "            while not corr_choice:\n",
    "                # Print matching movies\n",
    "                for i, title in enumerate(matched_movies['title'].head(5), 1):\n",
    "                    print(f\"{i}: {title}\")\n",
    "                    choices[i-1] = title\n",
    "\n",
    "                choice = input(\"Enter the number of the correct movie (or 0 to re-enter title, q to quit): \")\n",
    "                \n",
    "                if choice.lower() == 'q':\n",
    "                    print(\"Exiting program.\")\n",
    "                    return\n",
    "                # Find recommendation based on user choice\n",
    "                elif choice.isdigit() and 0 <= int(choice) <= len(matched_movies.head(5)):\n",
    "                    corr_choice = True\n",
    "                    if int(choice) == 0:\n",
    "                        continue\n",
    "                    selected_movie = choices[int(choice)-1]\n",
    "                    make_recommendation(selected_movie, knn, merged_df, X, 5, available_services)\n",
    "                    print(\"-\"*100 + \"\\n\", flush=True)\n",
    "                # Check for invalid choice\n",
    "                else:\n",
    "                    print(\"Invalid selection. Please try again.\\n\")"
   ]
  },
  {
   "cell_type": "markdown",
   "metadata": {},
   "source": [
    "Amazing! We built a barebones movie/show recommendation app! Try it out!"
   ]
  },
  {
   "cell_type": "code",
   "execution_count": 226,
   "metadata": {},
   "outputs": [
    {
     "name": "stdout",
     "output_type": "stream",
     "text": [
      "Exiting program.\n"
     ]
    }
   ],
   "source": [
    "# Call our recommendation app\n",
    "def __main__() -> None:\n",
    "    user_input_recommendation()\n",
    "\n",
    "if __name__ == \"__main__\":\n",
    "    __main__()"
   ]
  },
  {
   "cell_type": "markdown",
   "metadata": {},
   "source": [
    "## Overview"
   ]
  },
  {
   "cell_type": "markdown",
   "metadata": {},
   "source": [
    "A bulleted overview of the techniques used:\n",
    "- **Data Merging**: Combined datasets from different streaming platforms using `outer joins`.\n",
    "- **Data Cleaning**: Standardized and cleaned the data to ensure consistency and accuracy for analysis.\n",
    "- **Imputation Techniques**:\n",
    "  - **Basic Imputes**: Filled in missing values with basic imputes such as mean and median.\n",
    "  - **Regression Imputes**: Used `regression models` to predict and impute missing numerical values, such as `imdb_score` and `tmdb_popularity` scores.\n",
    "  - **Logarithmic Impute**:  Used `logarithmic models` to predict and impute missing categorical values, such as `age_ranking`. \n",
    "    - **Transformed Data**: For skewed distributions, applied `logarithmic transformations` to stabilize variance and improve imputation accuracy.\n",
    "- **Analytical Hypotheses Testing**:\n",
    "  - Evaluated the distribution of critically acclaimed movies across platforms.\n",
    "  - Assessed the popularity metrics across platforms.\n",
    "  - Investigated kid-friendly content across platforms.\n",
    "  - Analyzed diversity in genres and age ratings across different platforms.\n",
    "- **Feature Engineering for Model Input**:\n",
    "  - **K-Means Clustering**: Grouped similar genres to capture their relationships, reducing the feature space complexity.\n",
    "  - **PCA (Principal Component Analysis)**: Reduced the dimensionality of the genre features, enhancing model performance and interpretability.\n",
    "- **Model Training and Recommendations**:\n",
    "  - Developed a `KNN` (K-Nearest Neighbors) model to find similar movies based on the engineered features.\n",
    "  - Weighted features differently to adjust their influence on the model's distance calculations and recommendations.\n",
    "  - Developed `regex` patterns to match specified movie `title`. \n"
   ]
  },
  {
   "cell_type": "markdown",
   "metadata": {},
   "source": [
    "***Thank you, and kind wishes! :)***"
   ]
  }
 ],
 "metadata": {
  "kernelspec": {
   "display_name": "Python 3",
   "language": "python",
   "name": "python3"
  },
  "language_info": {
   "codemirror_mode": {
    "name": "ipython",
    "version": 3
   },
   "file_extension": ".py",
   "mimetype": "text/x-python",
   "name": "python",
   "nbconvert_exporter": "python",
   "pygments_lexer": "ipython3",
   "version": "3.12.1"
  }
 },
 "nbformat": 4,
 "nbformat_minor": 2
}
